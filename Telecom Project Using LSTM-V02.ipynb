{
 "cells": [
  {
   "cell_type": "code",
   "execution_count": 600,
   "id": "70173aba",
   "metadata": {},
   "outputs": [],
   "source": [
    "import numpy as np\n",
    "\n",
    "import pandas as pd\n",
    "\n",
    "#from datetime import datetime"
   ]
  },
  {
   "cell_type": "code",
   "execution_count": 601,
   "id": "30fc137a",
   "metadata": {},
   "outputs": [],
   "source": [
    "#Read the csv file\n",
    "df = pd.read_csv('Cell_Level_KPI_5 layer site_ML-One sector.csv')\n",
    "#df.head()"
   ]
  },
  {
   "cell_type": "code",
   "execution_count": null,
   "id": "f382d39d",
   "metadata": {},
   "outputs": [],
   "source": []
  },
  {
   "cell_type": "code",
   "execution_count": 602,
   "id": "00c0f072",
   "metadata": {},
   "outputs": [],
   "source": [
    "df.drop('Radio Site_Sector_Date_Hour',axis=1,inplace=True)\n",
    "df.drop('Hour',axis=1,inplace=True)\n",
    "df.drop('Date',axis=1,inplace=True)"
   ]
  },
  {
   "cell_type": "code",
   "execution_count": 603,
   "id": "3e4a81fd",
   "metadata": {},
   "outputs": [],
   "source": [
    "#df.info()"
   ]
  },
  {
   "cell_type": "code",
   "execution_count": 604,
   "id": "72ca58c5",
   "metadata": {},
   "outputs": [],
   "source": [
    "df['Date_Time']= pd.to_datetime(df['Date_Time'])"
   ]
  },
  {
   "cell_type": "code",
   "execution_count": 605,
   "id": "3245fac7",
   "metadata": {},
   "outputs": [],
   "source": [
    "#df.info()"
   ]
  },
  {
   "cell_type": "code",
   "execution_count": 606,
   "id": "9a13f519",
   "metadata": {},
   "outputs": [
    {
     "name": "stderr",
     "output_type": "stream",
     "text": [
      "<ipython-input-606-b8846d583b5f>:1: SettingWithCopyWarning: \n",
      "A value is trying to be set on a copy of a slice from a DataFrame\n",
      "\n",
      "See the caveats in the documentation: https://pandas.pydata.org/pandas-docs/stable/user_guide/indexing.html#returning-a-view-versus-a-copy\n",
      "  df.Capacity_On_Off[df.Capacity_On_Off == 'On'] = 1\n",
      "<ipython-input-606-b8846d583b5f>:2: SettingWithCopyWarning: \n",
      "A value is trying to be set on a copy of a slice from a DataFrame\n",
      "\n",
      "See the caveats in the documentation: https://pandas.pydata.org/pandas-docs/stable/user_guide/indexing.html#returning-a-view-versus-a-copy\n",
      "  df.Capacity_On_Off[df.Capacity_On_Off == 'Off'] = 0\n"
     ]
    }
   ],
   "source": [
    "df.Capacity_On_Off[df.Capacity_On_Off == 'On'] = 1\n",
    "df.Capacity_On_Off[df.Capacity_On_Off == 'Off'] = 0"
   ]
  },
  {
   "cell_type": "code",
   "execution_count": 607,
   "id": "e8493d63",
   "metadata": {},
   "outputs": [],
   "source": [
    "df = df.rename({\n",
    "          'Capacity_On_Off':'On'\n",
    "        }, axis='columns')"
   ]
  },
  {
   "cell_type": "code",
   "execution_count": 608,
   "id": "0130bd7d",
   "metadata": {},
   "outputs": [],
   "source": [
    "df ['On'] =df['On'].astype('int')"
   ]
  },
  {
   "cell_type": "code",
   "execution_count": 609,
   "id": "671fbb5d",
   "metadata": {},
   "outputs": [],
   "source": [
    "#df.head()"
   ]
  },
  {
   "cell_type": "code",
   "execution_count": 610,
   "id": "66fc5af1",
   "metadata": {},
   "outputs": [],
   "source": [
    "#df.tail()"
   ]
  },
  {
   "cell_type": "code",
   "execution_count": 611,
   "id": "ccb81fc8",
   "metadata": {},
   "outputs": [],
   "source": [
    "df1=df.reset_index()['On']"
   ]
  },
  {
   "cell_type": "code",
   "execution_count": 612,
   "id": "08c81780",
   "metadata": {},
   "outputs": [
    {
     "data": {
      "text/plain": [
       "911    1\n",
       "912    1\n",
       "913    0\n",
       "914    1\n",
       "915    0\n",
       "Name: On, dtype: int32"
      ]
     },
     "execution_count": 612,
     "metadata": {},
     "output_type": "execute_result"
    }
   ],
   "source": [
    "df1.tail()"
   ]
  },
  {
   "cell_type": "code",
   "execution_count": 613,
   "id": "d7adabc1",
   "metadata": {},
   "outputs": [],
   "source": [
    "#df1 = np.array(df1)"
   ]
  },
  {
   "cell_type": "code",
   "execution_count": 614,
   "id": "61f1e077",
   "metadata": {},
   "outputs": [],
   "source": [
    "### LSTM are sensitive to the scale of the data. so we apply MinMax scaler\n",
    "\n",
    "import numpy as np\n",
    "from sklearn.preprocessing import MinMaxScaler\n",
    "scaler=MinMaxScaler(feature_range=(0,1))\n",
    "df1=scaler.fit_transform(np.array(df1).reshape(-1,1))"
   ]
  },
  {
   "cell_type": "code",
   "execution_count": null,
   "id": "c41c6635",
   "metadata": {},
   "outputs": [],
   "source": []
  },
  {
   "cell_type": "code",
   "execution_count": 615,
   "id": "8ad3d5ff",
   "metadata": {},
   "outputs": [],
   "source": [
    "##splitting dataset into train and test split\n",
    "training_size=int(len(df1)*0.65)\n"
   ]
  },
  {
   "cell_type": "code",
   "execution_count": 616,
   "id": "6841d705",
   "metadata": {},
   "outputs": [
    {
     "data": {
      "text/plain": [
       "595"
      ]
     },
     "execution_count": 616,
     "metadata": {},
     "output_type": "execute_result"
    }
   ],
   "source": [
    "training_size"
   ]
  },
  {
   "cell_type": "code",
   "execution_count": 617,
   "id": "7773d506",
   "metadata": {},
   "outputs": [
    {
     "data": {
      "text/plain": [
       "321"
      ]
     },
     "execution_count": 617,
     "metadata": {},
     "output_type": "execute_result"
    }
   ],
   "source": [
    "test_size=len(df1)-training_size\n",
    "test_size"
   ]
  },
  {
   "cell_type": "code",
   "execution_count": 618,
   "id": "fe2a94a1",
   "metadata": {},
   "outputs": [],
   "source": [
    "train_data, test_data =df1[0:training_size,:],df1[training_size:len(df1),:1]"
   ]
  },
  {
   "cell_type": "code",
   "execution_count": null,
   "id": "a261c12c",
   "metadata": {},
   "outputs": [],
   "source": []
  },
  {
   "cell_type": "code",
   "execution_count": 619,
   "id": "1015b7e6",
   "metadata": {},
   "outputs": [],
   "source": [
    "import numpy\n",
    "# convert an array of values into a dataset matrix\n",
    "def create_dataset(dataset, time_step=1):\n",
    "\tdataX, dataY = [], []\n",
    "\tfor i in range(len(dataset)-time_step-1):\n",
    "\t\ta = dataset[i:(i+time_step), 0]   ###i=0, 0,1,2,3-----99   100 \n",
    "\t\tdataX.append(a)\n",
    "\t\tdataY.append(dataset[i + time_step, 0])\n",
    "\treturn numpy.array(dataX), numpy.array(dataY)"
   ]
  },
  {
   "cell_type": "code",
   "execution_count": 620,
   "id": "fe0c7785",
   "metadata": {},
   "outputs": [],
   "source": [
    "# reshape into X=t,t+1,t+2,t+3 and Y=t+4\n",
    "time_step = 24\n",
    "X_train, y_train = create_dataset(train_data, time_step)"
   ]
  },
  {
   "cell_type": "code",
   "execution_count": 621,
   "id": "5b4cf8f2",
   "metadata": {},
   "outputs": [],
   "source": [
    "X_test, ytest = create_dataset(test_data, time_step)"
   ]
  },
  {
   "cell_type": "code",
   "execution_count": 622,
   "id": "23fe4e62",
   "metadata": {},
   "outputs": [
    {
     "name": "stdout",
     "output_type": "stream",
     "text": [
      "(570, 24)\n",
      "(570,)\n"
     ]
    },
    {
     "data": {
      "text/plain": [
       "(None, None)"
      ]
     },
     "execution_count": 622,
     "metadata": {},
     "output_type": "execute_result"
    }
   ],
   "source": [
    "print(X_train.shape), print(y_train.shape)"
   ]
  },
  {
   "cell_type": "code",
   "execution_count": 623,
   "id": "3c45004f",
   "metadata": {},
   "outputs": [
    {
     "name": "stdout",
     "output_type": "stream",
     "text": [
      "(296, 24)\n",
      "(296,)\n"
     ]
    },
    {
     "data": {
      "text/plain": [
       "(None, None)"
      ]
     },
     "execution_count": 623,
     "metadata": {},
     "output_type": "execute_result"
    }
   ],
   "source": [
    "print(X_test.shape), print(ytest.shape)"
   ]
  },
  {
   "cell_type": "code",
   "execution_count": 624,
   "id": "df88fcec",
   "metadata": {},
   "outputs": [],
   "source": [
    "# reshape input to be [samples, time steps, features] which is required for LSTM\n",
    "X_train =X_train.reshape(X_train.shape[0],X_train.shape[1] , 1)\n",
    "X_test = X_test.reshape(X_test.shape[0],X_test.shape[1] , 1)"
   ]
  },
  {
   "cell_type": "code",
   "execution_count": 625,
   "id": "dcca8676",
   "metadata": {},
   "outputs": [],
   "source": [
    "### Create the Stacked LSTM model\n",
    "from tensorflow.keras.models import Sequential\n",
    "from tensorflow.keras.layers import Dense\n",
    "from tensorflow.keras.layers import LSTM"
   ]
  },
  {
   "cell_type": "code",
   "execution_count": null,
   "id": "0f58d6a0",
   "metadata": {},
   "outputs": [],
   "source": []
  },
  {
   "cell_type": "code",
   "execution_count": 626,
   "id": "2bbe7131",
   "metadata": {},
   "outputs": [],
   "source": [
    "model=Sequential()\n",
    "model.add(LSTM(50,return_sequences=True,input_shape=(time_step,1)))\n",
    "model.add(LSTM(50,return_sequences=True))\n",
    "model.add(LSTM(50))\n",
    "model.add(Dense(1))\n",
    "model.compile(loss='mean_squared_error',optimizer='adam')"
   ]
  },
  {
   "cell_type": "code",
   "execution_count": 627,
   "id": "de2f2d3f",
   "metadata": {},
   "outputs": [
    {
     "name": "stdout",
     "output_type": "stream",
     "text": [
      "Model: \"sequential_5\"\n",
      "_________________________________________________________________\n",
      "Layer (type)                 Output Shape              Param #   \n",
      "=================================================================\n",
      "lstm_15 (LSTM)               (None, 24, 50)            10400     \n",
      "_________________________________________________________________\n",
      "lstm_16 (LSTM)               (None, 24, 50)            20200     \n",
      "_________________________________________________________________\n",
      "lstm_17 (LSTM)               (None, 50)                20200     \n",
      "_________________________________________________________________\n",
      "dense_5 (Dense)              (None, 1)                 51        \n",
      "=================================================================\n",
      "Total params: 50,851\n",
      "Trainable params: 50,851\n",
      "Non-trainable params: 0\n",
      "_________________________________________________________________\n"
     ]
    }
   ],
   "source": [
    "model.summary()"
   ]
  },
  {
   "cell_type": "code",
   "execution_count": null,
   "id": "f4404c6a",
   "metadata": {},
   "outputs": [],
   "source": []
  },
  {
   "cell_type": "code",
   "execution_count": 628,
   "id": "399e1a2c",
   "metadata": {
    "scrolled": true
   },
   "outputs": [
    {
     "name": "stdout",
     "output_type": "stream",
     "text": [
      "Epoch 1/100\n",
      "9/9 [==============================] - 6s 150ms/step - loss: 0.3216 - val_loss: 0.2712\n",
      "Epoch 2/100\n",
      "9/9 [==============================] - 0s 43ms/step - loss: 0.2612 - val_loss: 0.2590\n",
      "Epoch 3/100\n",
      "9/9 [==============================] - 0s 40ms/step - loss: 0.2535 - val_loss: 0.2490\n",
      "Epoch 4/100\n",
      "9/9 [==============================] - 0s 42ms/step - loss: 0.2532 - val_loss: 0.2479\n",
      "Epoch 5/100\n",
      "9/9 [==============================] - 0s 44ms/step - loss: 0.2538 - val_loss: 0.2475\n",
      "Epoch 6/100\n",
      "9/9 [==============================] - 0s 55ms/step - loss: 0.2500 - val_loss: 0.2471\n",
      "Epoch 7/100\n",
      "9/9 [==============================] - 0s 42ms/step - loss: 0.2517 - val_loss: 0.2467\n",
      "Epoch 8/100\n",
      "9/9 [==============================] - 0s 41ms/step - loss: 0.2525 - val_loss: 0.2467\n",
      "Epoch 9/100\n",
      "9/9 [==============================] - 0s 42ms/step - loss: 0.2533 - val_loss: 0.2466\n",
      "Epoch 10/100\n",
      "9/9 [==============================] - 0s 41ms/step - loss: 0.2535 - val_loss: 0.2492\n",
      "Epoch 11/100\n",
      "9/9 [==============================] - 0s 41ms/step - loss: 0.2528 - val_loss: 0.2475\n",
      "Epoch 12/100\n",
      "9/9 [==============================] - 0s 39ms/step - loss: 0.2508 - val_loss: 0.2471\n",
      "Epoch 13/100\n",
      "9/9 [==============================] - 0s 40ms/step - loss: 0.2514 - val_loss: 0.2460\n",
      "Epoch 14/100\n",
      "9/9 [==============================] - 0s 55ms/step - loss: 0.2499 - val_loss: 0.2461\n",
      "Epoch 15/100\n",
      "9/9 [==============================] - 0s 44ms/step - loss: 0.2499 - val_loss: 0.2458\n",
      "Epoch 16/100\n",
      "9/9 [==============================] - 0s 42ms/step - loss: 0.2500 - val_loss: 0.2457\n",
      "Epoch 17/100\n",
      "9/9 [==============================] - 0s 42ms/step - loss: 0.2495 - val_loss: 0.2461\n",
      "Epoch 18/100\n",
      "9/9 [==============================] - 0s 42ms/step - loss: 0.2498 - val_loss: 0.2451\n",
      "Epoch 19/100\n",
      "9/9 [==============================] - 0s 43ms/step - loss: 0.2494 - val_loss: 0.2456\n",
      "Epoch 20/100\n",
      "9/9 [==============================] - 0s 46ms/step - loss: 0.2520 - val_loss: 0.2460\n",
      "Epoch 21/100\n",
      "9/9 [==============================] - 0s 41ms/step - loss: 0.2492 - val_loss: 0.2460\n",
      "Epoch 22/100\n",
      "9/9 [==============================] - 0s 42ms/step - loss: 0.2520 - val_loss: 0.2450\n",
      "Epoch 23/100\n",
      "9/9 [==============================] - 0s 41ms/step - loss: 0.2521 - val_loss: 0.2438\n",
      "Epoch 24/100\n",
      "9/9 [==============================] - 0s 44ms/step - loss: 0.2510 - val_loss: 0.2445\n",
      "Epoch 25/100\n",
      "9/9 [==============================] - 0s 41ms/step - loss: 0.2468 - val_loss: 0.2431\n",
      "Epoch 26/100\n",
      "9/9 [==============================] - 0s 43ms/step - loss: 0.2463 - val_loss: 0.2414\n",
      "Epoch 27/100\n",
      "9/9 [==============================] - 0s 42ms/step - loss: 0.2427 - val_loss: 0.2380\n",
      "Epoch 28/100\n",
      "9/9 [==============================] - 0s 42ms/step - loss: 0.2382 - val_loss: 0.2314\n",
      "Epoch 29/100\n",
      "9/9 [==============================] - 0s 40ms/step - loss: 0.2357 - val_loss: 0.2353\n",
      "Epoch 30/100\n",
      "9/9 [==============================] - 0s 41ms/step - loss: 0.2297 - val_loss: 0.2187\n",
      "Epoch 31/100\n",
      "9/9 [==============================] - 0s 40ms/step - loss: 0.2132 - val_loss: 0.2016\n",
      "Epoch 32/100\n",
      "9/9 [==============================] - 0s 42ms/step - loss: 0.1969 - val_loss: 0.1922\n",
      "Epoch 33/100\n",
      "9/9 [==============================] - 0s 40ms/step - loss: 0.1867 - val_loss: 0.1876\n",
      "Epoch 34/100\n",
      "9/9 [==============================] - 0s 41ms/step - loss: 0.1840 - val_loss: 0.1777\n",
      "Epoch 35/100\n",
      "9/9 [==============================] - 0s 42ms/step - loss: 0.1810 - val_loss: 0.1857\n",
      "Epoch 36/100\n",
      "9/9 [==============================] - 0s 39ms/step - loss: 0.1744 - val_loss: 0.1746\n",
      "Epoch 37/100\n",
      "9/9 [==============================] - 0s 40ms/step - loss: 0.1675 - val_loss: 0.1762\n",
      "Epoch 38/100\n",
      "9/9 [==============================] - 0s 43ms/step - loss: 0.1632 - val_loss: 0.1773\n",
      "Epoch 39/100\n",
      "9/9 [==============================] - 0s 40ms/step - loss: 0.1628 - val_loss: 0.1781\n",
      "Epoch 40/100\n",
      "9/9 [==============================] - 0s 40ms/step - loss: 0.1704 - val_loss: 0.1777\n",
      "Epoch 41/100\n",
      "9/9 [==============================] - 0s 42ms/step - loss: 0.1632 - val_loss: 0.1739\n",
      "Epoch 42/100\n",
      "9/9 [==============================] - 0s 44ms/step - loss: 0.1611 - val_loss: 0.1723\n",
      "Epoch 43/100\n",
      "9/9 [==============================] - 0s 42ms/step - loss: 0.1560 - val_loss: 0.1728\n",
      "Epoch 44/100\n",
      "9/9 [==============================] - 0s 42ms/step - loss: 0.1537 - val_loss: 0.1718\n",
      "Epoch 45/100\n",
      "9/9 [==============================] - 0s 40ms/step - loss: 0.1502 - val_loss: 0.1755\n",
      "Epoch 46/100\n",
      "9/9 [==============================] - 0s 41ms/step - loss: 0.1514 - val_loss: 0.1704\n",
      "Epoch 47/100\n",
      "9/9 [==============================] - 0s 41ms/step - loss: 0.1502 - val_loss: 0.1683\n",
      "Epoch 48/100\n",
      "9/9 [==============================] - 0s 41ms/step - loss: 0.1428 - val_loss: 0.1634\n",
      "Epoch 49/100\n",
      "9/9 [==============================] - 0s 41ms/step - loss: 0.1407 - val_loss: 0.1572\n",
      "Epoch 50/100\n",
      "9/9 [==============================] - 0s 41ms/step - loss: 0.1357 - val_loss: 0.1512\n",
      "Epoch 51/100\n",
      "9/9 [==============================] - 0s 41ms/step - loss: 0.1283 - val_loss: 0.1480\n",
      "Epoch 52/100\n",
      "9/9 [==============================] - 0s 42ms/step - loss: 0.1210 - val_loss: 0.1457\n",
      "Epoch 53/100\n",
      "9/9 [==============================] - 0s 41ms/step - loss: 0.1112 - val_loss: 0.1355\n",
      "Epoch 54/100\n",
      "9/9 [==============================] - 0s 44ms/step - loss: 0.1048 - val_loss: 0.1336\n",
      "Epoch 55/100\n",
      "9/9 [==============================] - 0s 41ms/step - loss: 0.1021 - val_loss: 0.1266\n",
      "Epoch 56/100\n",
      "9/9 [==============================] - 0s 41ms/step - loss: 0.0988 - val_loss: 0.1290\n",
      "Epoch 57/100\n",
      "9/9 [==============================] - 0s 42ms/step - loss: 0.0979 - val_loss: 0.1226\n",
      "Epoch 58/100\n",
      "9/9 [==============================] - 0s 41ms/step - loss: 0.0951 - val_loss: 0.1266\n",
      "Epoch 59/100\n",
      "9/9 [==============================] - 0s 41ms/step - loss: 0.0942 - val_loss: 0.1190\n",
      "Epoch 60/100\n",
      "9/9 [==============================] - 0s 41ms/step - loss: 0.0925 - val_loss: 0.1179\n",
      "Epoch 61/100\n",
      "9/9 [==============================] - 0s 41ms/step - loss: 0.0901 - val_loss: 0.1167\n",
      "Epoch 62/100\n",
      "9/9 [==============================] - 1s 62ms/step - loss: 0.0868 - val_loss: 0.1135\n",
      "Epoch 63/100\n",
      "9/9 [==============================] - 0s 46ms/step - loss: 0.0860 - val_loss: 0.1154\n",
      "Epoch 64/100\n",
      "9/9 [==============================] - 0s 43ms/step - loss: 0.0850 - val_loss: 0.1111\n",
      "Epoch 65/100\n",
      "9/9 [==============================] - 0s 41ms/step - loss: 0.0835 - val_loss: 0.1208\n",
      "Epoch 66/100\n",
      "9/9 [==============================] - 0s 41ms/step - loss: 0.0819 - val_loss: 0.1087\n",
      "Epoch 67/100\n",
      "9/9 [==============================] - 0s 42ms/step - loss: 0.0782 - val_loss: 0.1068\n",
      "Epoch 68/100\n",
      "9/9 [==============================] - 0s 41ms/step - loss: 0.0754 - val_loss: 0.1082\n",
      "Epoch 69/100\n",
      "9/9 [==============================] - 0s 42ms/step - loss: 0.0720 - val_loss: 0.1053\n",
      "Epoch 70/100\n",
      "9/9 [==============================] - 0s 43ms/step - loss: 0.0703 - val_loss: 0.1049\n",
      "Epoch 71/100\n",
      "9/9 [==============================] - 0s 42ms/step - loss: 0.0685 - val_loss: 0.1033\n",
      "Epoch 72/100\n",
      "9/9 [==============================] - 0s 41ms/step - loss: 0.0673 - val_loss: 0.1068\n",
      "Epoch 73/100\n",
      "9/9 [==============================] - 0s 42ms/step - loss: 0.0664 - val_loss: 0.1028\n",
      "Epoch 74/100\n",
      "9/9 [==============================] - 0s 41ms/step - loss: 0.0639 - val_loss: 0.1025\n",
      "Epoch 75/100\n",
      "9/9 [==============================] - 0s 42ms/step - loss: 0.0623 - val_loss: 0.1026\n",
      "Epoch 76/100\n",
      "9/9 [==============================] - 0s 41ms/step - loss: 0.0693 - val_loss: 0.1047\n",
      "Epoch 77/100\n",
      "9/9 [==============================] - 0s 41ms/step - loss: 0.0693 - val_loss: 0.1126\n",
      "Epoch 78/100\n",
      "9/9 [==============================] - 0s 40ms/step - loss: 0.0653 - val_loss: 0.0999\n",
      "Epoch 79/100\n",
      "9/9 [==============================] - 0s 41ms/step - loss: 0.0629 - val_loss: 0.0962\n",
      "Epoch 80/100\n",
      "9/9 [==============================] - 0s 39ms/step - loss: 0.0606 - val_loss: 0.0994\n",
      "Epoch 81/100\n",
      "9/9 [==============================] - 0s 37ms/step - loss: 0.0585 - val_loss: 0.1008\n",
      "Epoch 82/100\n",
      "9/9 [==============================] - 0s 38ms/step - loss: 0.0589 - val_loss: 0.0945\n",
      "Epoch 83/100\n",
      "9/9 [==============================] - 0s 37ms/step - loss: 0.0573 - val_loss: 0.1046\n"
     ]
    },
    {
     "name": "stdout",
     "output_type": "stream",
     "text": [
      "Epoch 84/100\n",
      "9/9 [==============================] - 0s 35ms/step - loss: 0.0623 - val_loss: 0.1047\n",
      "Epoch 85/100\n",
      "9/9 [==============================] - 0s 44ms/step - loss: 0.0623 - val_loss: 0.0965\n",
      "Epoch 86/100\n",
      "9/9 [==============================] - 0s 36ms/step - loss: 0.0580 - val_loss: 0.0986\n",
      "Epoch 87/100\n",
      "9/9 [==============================] - 0s 36ms/step - loss: 0.0571 - val_loss: 0.0990\n",
      "Epoch 88/100\n",
      "9/9 [==============================] - 0s 36ms/step - loss: 0.0572 - val_loss: 0.0969\n",
      "Epoch 89/100\n",
      "9/9 [==============================] - 0s 42ms/step - loss: 0.0551 - val_loss: 0.1037\n",
      "Epoch 90/100\n",
      "9/9 [==============================] - 0s 38ms/step - loss: 0.0595 - val_loss: 0.1004\n",
      "Epoch 91/100\n",
      "9/9 [==============================] - 0s 37ms/step - loss: 0.0553 - val_loss: 0.0910\n",
      "Epoch 92/100\n",
      "9/9 [==============================] - 0s 36ms/step - loss: 0.0556 - val_loss: 0.0944\n",
      "Epoch 93/100\n",
      "9/9 [==============================] - 0s 34ms/step - loss: 0.0530 - val_loss: 0.0933\n",
      "Epoch 94/100\n",
      "9/9 [==============================] - 0s 37ms/step - loss: 0.0526 - val_loss: 0.0935\n",
      "Epoch 95/100\n",
      "9/9 [==============================] - 0s 37ms/step - loss: 0.0522 - val_loss: 0.0939\n",
      "Epoch 96/100\n",
      "9/9 [==============================] - 0s 37ms/step - loss: 0.0513 - val_loss: 0.0977\n",
      "Epoch 97/100\n",
      "9/9 [==============================] - 0s 36ms/step - loss: 0.0531 - val_loss: 0.0957\n",
      "Epoch 98/100\n",
      "9/9 [==============================] - 0s 33ms/step - loss: 0.0546 - val_loss: 0.1002\n",
      "Epoch 99/100\n",
      "9/9 [==============================] - 0s 36ms/step - loss: 0.0521 - val_loss: 0.0976\n",
      "Epoch 100/100\n",
      "9/9 [==============================] - 0s 37ms/step - loss: 0.0528 - val_loss: 0.1002\n"
     ]
    },
    {
     "data": {
      "text/plain": [
       "<keras.callbacks.History at 0x21c876c1340>"
      ]
     },
     "execution_count": 628,
     "metadata": {},
     "output_type": "execute_result"
    }
   ],
   "source": [
    "model.fit(X_train,y_train,validation_data=(X_test,ytest),epochs=100,batch_size=64,verbose=1)"
   ]
  },
  {
   "cell_type": "code",
   "execution_count": 629,
   "id": "944692a0",
   "metadata": {},
   "outputs": [],
   "source": [
    "import tensorflow as tf"
   ]
  },
  {
   "cell_type": "code",
   "execution_count": 630,
   "id": "9383b0e6",
   "metadata": {},
   "outputs": [
    {
     "data": {
      "text/plain": [
       "'2.6.0'"
      ]
     },
     "execution_count": 630,
     "metadata": {},
     "output_type": "execute_result"
    }
   ],
   "source": [
    "tf.__version__"
   ]
  },
  {
   "cell_type": "markdown",
   "id": "25294d24",
   "metadata": {},
   "source": [
    "# Now we will predict for Train and Test data and find the accuracy of both predictions."
   ]
  },
  {
   "cell_type": "code",
   "execution_count": 631,
   "id": "32d0ceb9",
   "metadata": {},
   "outputs": [],
   "source": [
    "### Lets Do the prediction and check performance metrics\n",
    "train_predict=model.predict(X_train)\n",
    "test_predict=model.predict(X_test)"
   ]
  },
  {
   "cell_type": "code",
   "execution_count": 632,
   "id": "93698b2f",
   "metadata": {},
   "outputs": [],
   "source": [
    "##Transformback to original form\n",
    "train_predict=scaler.inverse_transform(train_predict)\n",
    "test_predict=scaler.inverse_transform(test_predict)"
   ]
  },
  {
   "cell_type": "code",
   "execution_count": 633,
   "id": "bda87192",
   "metadata": {},
   "outputs": [],
   "source": [
    "train_predict = np.round(train_predict)"
   ]
  },
  {
   "cell_type": "code",
   "execution_count": 634,
   "id": "6b14d8a3",
   "metadata": {},
   "outputs": [],
   "source": [
    "#train_predict = pd.DataFrame(train_predict, columns=['train_predict']).to_csv('train_predict.csv')"
   ]
  },
  {
   "cell_type": "code",
   "execution_count": 635,
   "id": "33ccf726",
   "metadata": {},
   "outputs": [],
   "source": [
    "test_predict = np.round(test_predict)"
   ]
  },
  {
   "cell_type": "code",
   "execution_count": 636,
   "id": "b4648a96",
   "metadata": {},
   "outputs": [],
   "source": [
    "#test_predict = pd.DataFrame(test_predict, columns=['test_predict']).to_csv('test_predict.csv')"
   ]
  },
  {
   "cell_type": "code",
   "execution_count": 637,
   "id": "2f9c7b4b",
   "metadata": {},
   "outputs": [],
   "source": [
    "#train_predict"
   ]
  },
  {
   "cell_type": "code",
   "execution_count": 638,
   "id": "f40f75cf",
   "metadata": {},
   "outputs": [],
   "source": [
    "#zbc = np.isnan(train_predict)"
   ]
  },
  {
   "cell_type": "code",
   "execution_count": 639,
   "id": "ba38e8c6",
   "metadata": {},
   "outputs": [],
   "source": [
    "#countNAN = np.where (zbc== 'True')"
   ]
  },
  {
   "cell_type": "code",
   "execution_count": 640,
   "id": "c1199655",
   "metadata": {},
   "outputs": [],
   "source": [
    "#countNAN"
   ]
  },
  {
   "cell_type": "code",
   "execution_count": 641,
   "id": "877b3e97",
   "metadata": {},
   "outputs": [
    {
     "data": {
      "text/plain": [
       "0.2581988897471611"
      ]
     },
     "execution_count": 641,
     "metadata": {},
     "output_type": "execute_result"
    }
   ],
   "source": [
    "### Calculate RMSE performance metrics\n",
    "import math\n",
    "from sklearn.metrics import mean_squared_error\n",
    "math.sqrt(mean_squared_error(y_train,train_predict))"
   ]
  },
  {
   "cell_type": "code",
   "execution_count": 642,
   "id": "47db7e1a",
   "metadata": {},
   "outputs": [
    {
     "data": {
      "text/plain": [
       "0.3389171947022825"
      ]
     },
     "execution_count": 642,
     "metadata": {},
     "output_type": "execute_result"
    }
   ],
   "source": [
    "### Test Data RMSE\n",
    "math.sqrt(mean_squared_error(ytest,test_predict))"
   ]
  },
  {
   "cell_type": "code",
   "execution_count": 643,
   "id": "61c022d0",
   "metadata": {},
   "outputs": [
    {
     "data": {
      "image/png": "[encoded data removed]",
      "text/plain": [
       "<Figure size 432x288 with 1 Axes>"
      ]
     },
     "metadata": {
      "needs_background": "light"
     },
     "output_type": "display_data"
    }
   ],
   "source": [
    "### Plotting train_predict and test_predict\n",
    "# shift train predictions for plotting\n",
    "look_back=time_step   # this value should be same as time_step considerd in code above.\n",
    "trainPredictPlot = numpy.empty_like(df1)\n",
    "trainPredictPlot[:, :] = np.nan\n",
    "trainPredictPlot[look_back:len(train_predict)+look_back, :] = train_predict\n",
    "# shift test predictions for plotting\n",
    "testPredictPlot = numpy.empty_like(df1)\n",
    "testPredictPlot[:, :] = numpy.nan\n",
    "testPredictPlot[len(train_predict)+(look_back*2)+1:len(df1)-1, :] = test_predict\n",
    "# plot baseline and predictions\n",
    "plt.plot(scaler.inverse_transform(df1))\n",
    "plt.plot(trainPredictPlot)\n",
    "plt.plot(testPredictPlot)\n",
    "plt.show()"
   ]
  },
  {
   "cell_type": "code",
   "execution_count": 644,
   "id": "2e290eff",
   "metadata": {},
   "outputs": [
    {
     "data": {
      "text/plain": [
       "321"
      ]
     },
     "execution_count": 644,
     "metadata": {},
     "output_type": "execute_result"
    }
   ],
   "source": [
    "\n",
    "len(test_data)"
   ]
  },
  {
   "cell_type": "markdown",
   "id": "9bba5fa0",
   "metadata": {},
   "source": [
    "# Below code is for predicting values for a future date (beyond test data set). Of course we wont be able to validate how accurate that prediction is, since we dont have any future data."
   ]
  },
  {
   "cell_type": "code",
   "execution_count": 645,
   "id": "13e7bf53",
   "metadata": {},
   "outputs": [
    {
     "data": {
      "text/plain": [
       "321"
      ]
     },
     "execution_count": 645,
     "metadata": {},
     "output_type": "execute_result"
    }
   ],
   "source": [
    "len(test_data)"
   ]
  },
  {
   "cell_type": "code",
   "execution_count": 646,
   "id": "ea2f4897",
   "metadata": {},
   "outputs": [],
   "source": [
    "# If the 'last hour of last date' in our entire data set is say Hour- H24 of Day- D7. \n",
    "# If we have to predict H1 of D8 looking back H24 - 24 (24 hrs before), then this is calaculated as below.\n",
    "\n",
    "new = (len(test_data)-time_step)"
   ]
  },
  {
   "cell_type": "code",
   "execution_count": 647,
   "id": "b0b04813",
   "metadata": {},
   "outputs": [
    {
     "data": {
      "text/plain": [
       "(1, 24)"
      ]
     },
     "execution_count": 647,
     "metadata": {},
     "output_type": "execute_result"
    }
   ],
   "source": [
    "# \n",
    "x_input=test_data[new:].reshape(1,-1) \n",
    "\n",
    "## first agument in test_data should be the output of earlier executed command print(ytest.shape) and add 1 to it\n",
    "# .==remove above comment??\n",
    "\n",
    "x_input.shape"
   ]
  },
  {
   "cell_type": "code",
   "execution_count": 648,
   "id": "5b46c85e",
   "metadata": {},
   "outputs": [],
   "source": [
    "# Below will give list of values for the period 'time_step'\n",
    "temp_input=list(x_input)\n",
    "temp_input=temp_input[0].tolist()"
   ]
  },
  {
   "cell_type": "code",
   "execution_count": null,
   "id": "ff53f979",
   "metadata": {},
   "outputs": [],
   "source": []
  },
  {
   "cell_type": "code",
   "execution_count": 649,
   "id": "84bb5b33",
   "metadata": {
    "scrolled": true
   },
   "outputs": [
    {
     "name": "stdout",
     "output_type": "stream",
     "text": [
      "[0.9794723]\n",
      "25\n",
      "1 day input [0.         0.         0.         1.         1.         0.\n",
      " 1.         0.         1.         1.         0.         1.\n",
      " 0.         1.         1.         0.         1.         0.\n",
      " 1.         1.         0.         1.         0.         0.97947228]\n",
      "1 day output [[0.8795685]]\n",
      "2 day input [0.         0.         1.         1.         0.         1.\n",
      " 0.         1.         1.         0.         1.         0.\n",
      " 1.         1.         0.         1.         0.         1.\n",
      " 1.         0.         1.         0.         0.97947228 0.87956852]\n",
      "2 day output [[-0.03838972]]\n",
      "3 day input [ 0.          1.          1.          0.          1.          0.\n",
      "  1.          1.          0.          1.          0.          1.\n",
      "  1.          0.          1.          0.          1.          1.\n",
      "  0.          1.          0.          0.97947228  0.87956852 -0.03838972]\n",
      "3 day output [[0.8221379]]\n",
      "4 day input [ 1.          1.          0.          1.          0.          1.\n",
      "  1.          0.          1.          0.          1.          1.\n",
      "  0.          1.          0.          1.          1.          0.\n",
      "  1.          0.          0.97947228  0.87956852 -0.03838972  0.82213789]\n",
      "4 day output [[0.12778239]]\n",
      "5 day input [ 1.          0.          1.          0.          1.          1.\n",
      "  0.          1.          0.          1.          1.          0.\n",
      "  1.          0.          1.          1.          0.          1.\n",
      "  0.          0.97947228  0.87956852 -0.03838972  0.82213789  0.12778239]\n",
      "5 day output [[0.99625826]]\n",
      "6 day input [ 0.          1.          0.          1.          1.          0.\n",
      "  1.          0.          1.          1.          0.          1.\n",
      "  0.          1.          1.          0.          1.          0.\n",
      "  0.97947228  0.87956852 -0.03838972  0.82213789  0.12778239  0.99625826]\n",
      "6 day output [[0.6954202]]\n",
      "7 day input [ 1.          0.          1.          1.          0.          1.\n",
      "  0.          1.          1.          0.          1.          0.\n",
      "  1.          1.          0.          1.          0.          0.97947228\n",
      "  0.87956852 -0.03838972  0.82213789  0.12778239  0.99625826  0.69542021]\n",
      "7 day output [[-0.05638836]]\n",
      "8 day input [ 0.          1.          1.          0.          1.          0.\n",
      "  1.          1.          0.          1.          0.          1.\n",
      "  1.          0.          1.          0.          0.97947228  0.87956852\n",
      " -0.03838972  0.82213789  0.12778239  0.99625826  0.69542021 -0.05638836]\n",
      "8 day output [[0.84526896]]\n",
      "9 day input [ 1.          1.          0.          1.          0.          1.\n",
      "  1.          0.          1.          0.          1.          1.\n",
      "  0.          1.          0.          0.97947228  0.87956852 -0.03838972\n",
      "  0.82213789  0.12778239  0.99625826  0.69542021 -0.05638836  0.84526896]\n",
      "9 day output [[0.36102265]]\n",
      "10 day input [ 1.          0.          1.          0.          1.          1.\n",
      "  0.          1.          0.          1.          1.          0.\n",
      "  1.          0.          0.97947228  0.87956852 -0.03838972  0.82213789\n",
      "  0.12778239  0.99625826  0.69542021 -0.05638836  0.84526896  0.36102265]\n",
      "10 day output [[1.0065875]]\n",
      "11 day input [ 0.          1.          0.          1.          1.          0.\n",
      "  1.          0.          1.          1.          0.          1.\n",
      "  0.          0.97947228  0.87956852 -0.03838972  0.82213789  0.12778239\n",
      "  0.99625826  0.69542021 -0.05638836  0.84526896  0.36102265  1.00658751]\n",
      "11 day output [[0.08228353]]\n",
      "12 day input [ 1.          0.          1.          1.          0.          1.\n",
      "  0.          1.          1.          0.          1.          0.\n",
      "  0.97947228  0.87956852 -0.03838972  0.82213789  0.12778239  0.99625826\n",
      "  0.69542021 -0.05638836  0.84526896  0.36102265  1.00658751  0.08228353]\n",
      "12 day output [[0.37997586]]\n",
      "13 day input [ 0.          1.          1.          0.          1.          0.\n",
      "  1.          1.          0.          1.          0.          0.97947228\n",
      "  0.87956852 -0.03838972  0.82213789  0.12778239  0.99625826  0.69542021\n",
      " -0.05638836  0.84526896  0.36102265  1.00658751  0.08228353  0.37997586]\n",
      "13 day output [[0.4089622]]\n",
      "14 day input [ 1.          1.          0.          1.          0.          1.\n",
      "  1.          0.          1.          0.          0.97947228  0.87956852\n",
      " -0.03838972  0.82213789  0.12778239  0.99625826  0.69542021 -0.05638836\n",
      "  0.84526896  0.36102265  1.00658751  0.08228353  0.37997586  0.40896219]\n",
      "14 day output [[0.9733596]]\n",
      "15 day input [ 1.          0.          1.          0.          1.          1.\n",
      "  0.          1.          0.          0.97947228  0.87956852 -0.03838972\n",
      "  0.82213789  0.12778239  0.99625826  0.69542021 -0.05638836  0.84526896\n",
      "  0.36102265  1.00658751  0.08228353  0.37997586  0.40896219  0.97335958]\n",
      "15 day output [[0.63092196]]\n",
      "16 day input [ 0.          1.          0.          1.          1.          0.\n",
      "  1.          0.          0.97947228  0.87956852 -0.03838972  0.82213789\n",
      "  0.12778239  0.99625826  0.69542021 -0.05638836  0.84526896  0.36102265\n",
      "  1.00658751  0.08228353  0.37997586  0.40896219  0.97335958  0.63092196]\n",
      "16 day output [[-0.1252629]]\n",
      "17 day input [ 1.          0.          1.          1.          0.          1.\n",
      "  0.          0.97947228  0.87956852 -0.03838972  0.82213789  0.12778239\n",
      "  0.99625826  0.69542021 -0.05638836  0.84526896  0.36102265  1.00658751\n",
      "  0.08228353  0.37997586  0.40896219  0.97335958  0.63092196 -0.1252629 ]\n",
      "17 day output [[0.715378]]\n",
      "18 day input [ 0.          1.          1.          0.          1.          0.\n",
      "  0.97947228  0.87956852 -0.03838972  0.82213789  0.12778239  0.99625826\n",
      "  0.69542021 -0.05638836  0.84526896  0.36102265  1.00658751  0.08228353\n",
      "  0.37997586  0.40896219  0.97335958  0.63092196 -0.1252629   0.71537799]\n",
      "18 day output [[0.4151942]]\n",
      "19 day input [ 1.          1.          0.          1.          0.          0.97947228\n",
      "  0.87956852 -0.03838972  0.82213789  0.12778239  0.99625826  0.69542021\n",
      " -0.05638836  0.84526896  0.36102265  1.00658751  0.08228353  0.37997586\n",
      "  0.40896219  0.97335958  0.63092196 -0.1252629   0.71537799  0.41519421]\n",
      "19 day output [[1.021603]]\n",
      "20 day input [ 1.          0.          1.          0.          0.97947228  0.87956852\n",
      " -0.03838972  0.82213789  0.12778239  0.99625826  0.69542021 -0.05638836\n",
      "  0.84526896  0.36102265  1.00658751  0.08228353  0.37997586  0.40896219\n",
      "  0.97335958  0.63092196 -0.1252629   0.71537799  0.41519421  1.02160299]\n",
      "20 day output [[-0.03032042]]\n",
      "21 day input [ 0.          1.          0.          0.97947228  0.87956852 -0.03838972\n",
      "  0.82213789  0.12778239  0.99625826  0.69542021 -0.05638836  0.84526896\n",
      "  0.36102265  1.00658751  0.08228353  0.37997586  0.40896219  0.97335958\n",
      "  0.63092196 -0.1252629   0.71537799  0.41519421  1.02160299 -0.03032042]\n",
      "21 day output [[0.5928073]]\n",
      "22 day input [ 1.          0.          0.97947228  0.87956852 -0.03838972  0.82213789\n",
      "  0.12778239  0.99625826  0.69542021 -0.05638836  0.84526896  0.36102265\n",
      "  1.00658751  0.08228353  0.37997586  0.40896219  0.97335958  0.63092196\n",
      " -0.1252629   0.71537799  0.41519421  1.02160299 -0.03032042  0.59280729]\n",
      "22 day output [[0.07844158]]\n",
      "23 day input [ 0.          0.97947228  0.87956852 -0.03838972  0.82213789  0.12778239\n",
      "  0.99625826  0.69542021 -0.05638836  0.84526896  0.36102265  1.00658751\n",
      "  0.08228353  0.37997586  0.40896219  0.97335958  0.63092196 -0.1252629\n",
      "  0.71537799  0.41519421  1.02160299 -0.03032042  0.59280729  0.07844158]\n",
      "23 day output [[0.934138]]\n",
      "24 day input [ 0.97947228  0.87956852 -0.03838972  0.82213789  0.12778239  0.99625826\n",
      "  0.69542021 -0.05638836  0.84526896  0.36102265  1.00658751  0.08228353\n",
      "  0.37997586  0.40896219  0.97335958  0.63092196 -0.1252629   0.71537799\n",
      "  0.41519421  1.02160299 -0.03032042  0.59280729  0.07844158  0.934138  ]\n",
      "24 day output [[0.8186667]]\n",
      "25 day input [ 0.87956852 -0.03838972  0.82213789  0.12778239  0.99625826  0.69542021\n",
      " -0.05638836  0.84526896  0.36102265  1.00658751  0.08228353  0.37997586\n",
      "  0.40896219  0.97335958  0.63092196 -0.1252629   0.71537799  0.41519421\n",
      "  1.02160299 -0.03032042  0.59280729  0.07844158  0.934138    0.8186667 ]\n",
      "25 day output [[-0.08047978]]\n",
      "26 day input [-0.03838972  0.82213789  0.12778239  0.99625826  0.69542021 -0.05638836\n",
      "  0.84526896  0.36102265  1.00658751  0.08228353  0.37997586  0.40896219\n",
      "  0.97335958  0.63092196 -0.1252629   0.71537799  0.41519421  1.02160299\n",
      " -0.03032042  0.59280729  0.07844158  0.934138    0.8186667  -0.08047978]\n",
      "26 day output [[0.7465475]]\n",
      "27 day input [ 0.82213789  0.12778239  0.99625826  0.69542021 -0.05638836  0.84526896\n",
      "  0.36102265  1.00658751  0.08228353  0.37997586  0.40896219  0.97335958\n",
      "  0.63092196 -0.1252629   0.71537799  0.41519421  1.02160299 -0.03032042\n",
      "  0.59280729  0.07844158  0.934138    0.8186667  -0.08047978  0.74654752]\n",
      "27 day output [[0.11129579]]\n",
      "28 day input [ 0.12778239  0.99625826  0.69542021 -0.05638836  0.84526896  0.36102265\n",
      "  1.00658751  0.08228353  0.37997586  0.40896219  0.97335958  0.63092196\n",
      " -0.1252629   0.71537799  0.41519421  1.02160299 -0.03032042  0.59280729\n",
      "  0.07844158  0.934138    0.8186667  -0.08047978  0.74654752  0.11129579]\n",
      "28 day output [[1.0171132]]\n",
      "29 day input [ 0.99625826  0.69542021 -0.05638836  0.84526896  0.36102265  1.00658751\n",
      "  0.08228353  0.37997586  0.40896219  0.97335958  0.63092196 -0.1252629\n",
      "  0.71537799  0.41519421  1.02160299 -0.03032042  0.59280729  0.07844158\n",
      "  0.934138    0.8186667  -0.08047978  0.74654752  0.11129579  1.01711321]\n"
     ]
    },
    {
     "name": "stdout",
     "output_type": "stream",
     "text": [
      "29 day output [[0.6022015]]\n",
      "30 day input [ 0.69542021 -0.05638836  0.84526896  0.36102265  1.00658751  0.08228353\n",
      "  0.37997586  0.40896219  0.97335958  0.63092196 -0.1252629   0.71537799\n",
      "  0.41519421  1.02160299 -0.03032042  0.59280729  0.07844158  0.934138\n",
      "  0.8186667  -0.08047978  0.74654752  0.11129579  1.01711321  0.60220152]\n",
      "30 day output [[-0.04879864]]\n",
      "31 day input [-0.05638836  0.84526896  0.36102265  1.00658751  0.08228353  0.37997586\n",
      "  0.40896219  0.97335958  0.63092196 -0.1252629   0.71537799  0.41519421\n",
      "  1.02160299 -0.03032042  0.59280729  0.07844158  0.934138    0.8186667\n",
      " -0.08047978  0.74654752  0.11129579  1.01711321  0.60220152 -0.04879864]\n",
      "31 day output [[0.8134862]]\n",
      "32 day input [ 0.84526896  0.36102265  1.00658751  0.08228353  0.37997586  0.40896219\n",
      "  0.97335958  0.63092196 -0.1252629   0.71537799  0.41519421  1.02160299\n",
      " -0.03032042  0.59280729  0.07844158  0.934138    0.8186667  -0.08047978\n",
      "  0.74654752  0.11129579  1.01711321  0.60220152 -0.04879864  0.81348622]\n",
      "32 day output [[0.37576348]]\n",
      "33 day input [ 0.36102265  1.00658751  0.08228353  0.37997586  0.40896219  0.97335958\n",
      "  0.63092196 -0.1252629   0.71537799  0.41519421  1.02160299 -0.03032042\n",
      "  0.59280729  0.07844158  0.934138    0.8186667  -0.08047978  0.74654752\n",
      "  0.11129579  1.01711321  0.60220152 -0.04879864  0.81348622  0.37576348]\n",
      "33 day output [[1.0088315]]\n",
      "34 day input [ 1.00658751  0.08228353  0.37997586  0.40896219  0.97335958  0.63092196\n",
      " -0.1252629   0.71537799  0.41519421  1.02160299 -0.03032042  0.59280729\n",
      "  0.07844158  0.934138    0.8186667  -0.08047978  0.74654752  0.11129579\n",
      "  1.01711321  0.60220152 -0.04879864  0.81348622  0.37576348  1.0088315 ]\n",
      "34 day output [[-0.05390814]]\n",
      "35 day input [ 0.08228353  0.37997586  0.40896219  0.97335958  0.63092196 -0.1252629\n",
      "  0.71537799  0.41519421  1.02160299 -0.03032042  0.59280729  0.07844158\n",
      "  0.934138    0.8186667  -0.08047978  0.74654752  0.11129579  1.01711321\n",
      "  0.60220152 -0.04879864  0.81348622  0.37576348  1.0088315  -0.05390814]\n",
      "35 day output [[0.67762786]]\n",
      "36 day input [ 0.37997586  0.40896219  0.97335958  0.63092196 -0.1252629   0.71537799\n",
      "  0.41519421  1.02160299 -0.03032042  0.59280729  0.07844158  0.934138\n",
      "  0.8186667  -0.08047978  0.74654752  0.11129579  1.01711321  0.60220152\n",
      " -0.04879864  0.81348622  0.37576348  1.0088315  -0.05390814  0.67762786]\n",
      "36 day output [[0.09354699]]\n",
      "37 day input [ 0.40896219  0.97335958  0.63092196 -0.1252629   0.71537799  0.41519421\n",
      "  1.02160299 -0.03032042  0.59280729  0.07844158  0.934138    0.8186667\n",
      " -0.08047978  0.74654752  0.11129579  1.01711321  0.60220152 -0.04879864\n",
      "  0.81348622  0.37576348  1.0088315  -0.05390814  0.67762786  0.09354699]\n",
      "37 day output [[0.9637727]]\n",
      "38 day input [ 0.97335958  0.63092196 -0.1252629   0.71537799  0.41519421  1.02160299\n",
      " -0.03032042  0.59280729  0.07844158  0.934138    0.8186667  -0.08047978\n",
      "  0.74654752  0.11129579  1.01711321  0.60220152 -0.04879864  0.81348622\n",
      "  0.37576348  1.0088315  -0.05390814  0.67762786  0.09354699  0.96377271]\n",
      "38 day output [[0.7827412]]\n",
      "39 day input [ 0.63092196 -0.1252629   0.71537799  0.41519421  1.02160299 -0.03032042\n",
      "  0.59280729  0.07844158  0.934138    0.8186667  -0.08047978  0.74654752\n",
      "  0.11129579  1.01711321  0.60220152 -0.04879864  0.81348622  0.37576348\n",
      "  1.0088315  -0.05390814  0.67762786  0.09354699  0.96377271  0.78274119]\n",
      "39 day output [[-0.12210719]]\n",
      "40 day input [-0.1252629   0.71537799  0.41519421  1.02160299 -0.03032042  0.59280729\n",
      "  0.07844158  0.934138    0.8186667  -0.08047978  0.74654752  0.11129579\n",
      "  1.01711321  0.60220152 -0.04879864  0.81348622  0.37576348  1.0088315\n",
      " -0.05390814  0.67762786  0.09354699  0.96377271  0.78274119 -0.12210719]\n",
      "40 day output [[0.722041]]\n",
      "41 day input [ 0.71537799  0.41519421  1.02160299 -0.03032042  0.59280729  0.07844158\n",
      "  0.934138    0.8186667  -0.08047978  0.74654752  0.11129579  1.01711321\n",
      "  0.60220152 -0.04879864  0.81348622  0.37576348  1.0088315  -0.05390814\n",
      "  0.67762786  0.09354699  0.96377271  0.78274119 -0.12210719  0.72204101]\n",
      "41 day output [[0.14052674]]\n",
      "42 day input [ 0.41519421  1.02160299 -0.03032042  0.59280729  0.07844158  0.934138\n",
      "  0.8186667  -0.08047978  0.74654752  0.11129579  1.01711321  0.60220152\n",
      " -0.04879864  0.81348622  0.37576348  1.0088315  -0.05390814  0.67762786\n",
      "  0.09354699  0.96377271  0.78274119 -0.12210719  0.72204101  0.14052674]\n",
      "42 day output [[1.040131]]\n",
      "43 day input [ 1.02160299 -0.03032042  0.59280729  0.07844158  0.934138    0.8186667\n",
      " -0.08047978  0.74654752  0.11129579  1.01711321  0.60220152 -0.04879864\n",
      "  0.81348622  0.37576348  1.0088315  -0.05390814  0.67762786  0.09354699\n",
      "  0.96377271  0.78274119 -0.12210719  0.72204101  0.14052674  1.04013097]\n",
      "43 day output [[0.47195417]]\n",
      "44 day input [-0.03032042  0.59280729  0.07844158  0.934138    0.8186667  -0.08047978\n",
      "  0.74654752  0.11129579  1.01711321  0.60220152 -0.04879864  0.81348622\n",
      "  0.37576348  1.0088315  -0.05390814  0.67762786  0.09354699  0.96377271\n",
      "  0.78274119 -0.12210719  0.72204101  0.14052674  1.04013097  0.47195417]\n",
      "44 day output [[0.12222006]]\n",
      "45 day input [ 0.59280729  0.07844158  0.934138    0.8186667  -0.08047978  0.74654752\n",
      "  0.11129579  1.01711321  0.60220152 -0.04879864  0.81348622  0.37576348\n",
      "  1.0088315  -0.05390814  0.67762786  0.09354699  0.96377271  0.78274119\n",
      " -0.12210719  0.72204101  0.14052674  1.04013097  0.47195417  0.12222006]\n",
      "45 day output [[0.60986996]]\n",
      "46 day input [ 0.07844158  0.934138    0.8186667  -0.08047978  0.74654752  0.11129579\n",
      "  1.01711321  0.60220152 -0.04879864  0.81348622  0.37576348  1.0088315\n",
      " -0.05390814  0.67762786  0.09354699  0.96377271  0.78274119 -0.12210719\n",
      "  0.72204101  0.14052674  1.04013097  0.47195417  0.12222006  0.60986996]\n",
      "46 day output [[0.5114717]]\n",
      "47 day input [ 0.934138    0.8186667  -0.08047978  0.74654752  0.11129579  1.01711321\n",
      "  0.60220152 -0.04879864  0.81348622  0.37576348  1.0088315  -0.05390814\n",
      "  0.67762786  0.09354699  0.96377271  0.78274119 -0.12210719  0.72204101\n",
      "  0.14052674  1.04013097  0.47195417  0.12222006  0.60986996  0.51147169]\n",
      "47 day output [[0.9839981]]\n",
      "[[0.979472279548645], [0.8795685172080994], [-0.038389720022678375], [0.8221378922462463], [0.12778238952159882], [0.9962582588195801], [0.6954202055931091], [-0.05638836324214935], [0.845268964767456], [0.3610226511955261], [1.0065875053405762], [0.08228352665901184], [0.3799758553504944], [0.4089621901512146], [0.9733595848083496], [0.6309219598770142], [-0.12526290118694305], [0.7153779864311218], [0.41519421339035034], [1.021602988243103], [-0.0303204245865345], [0.5928072929382324], [0.07844158262014389], [0.9341380000114441], [0.8186666965484619], [-0.08047977834939957], [0.746547520160675], [0.11129578948020935], [1.017113208770752], [0.602201521396637], [-0.048798635601997375], [0.8134862184524536], [0.375763475894928], [1.00883150100708], [-0.05390813946723938], [0.6776278614997864], [0.09354699403047562], [0.963772714138031], [0.7827411890029907], [-0.12210719287395477], [0.7220410108566284], [0.14052674174308777], [1.0401309728622437], [0.4719541668891907], [0.12222006171941757], [0.6098699569702148], [0.511471688747406], [0.9839981198310852]]\n"
     ]
    }
   ],
   "source": [
    "# demonstrate prediction for next x no of time steps in the future\n",
    "from numpy import array\n",
    "\n",
    "lst_output=[]\n",
    "n_steps=time_step # step size should be same as was chosen in the code earlier/above \n",
    "i=0\n",
    "while(i<48):   # value of i to be given here as the no of time steps in the future that we want to predict for\n",
    "                # This is basically how many hours after last hour of our data set do we want to predict considering look\n",
    "                # back period of time_step (time_step is defined earlier)\n",
    "    \n",
    "    if(len(temp_input)>time_step): # value givne here should be same a time_steps used in earlier code above.\n",
    "        #print(temp_input)\n",
    "        x_input=np.array(temp_input[1:])\n",
    "        print(\"{} day input {}\".format(i,x_input))\n",
    "        x_input=x_input.reshape(1,-1)\n",
    "        x_input = x_input.reshape((1, n_steps, 1))\n",
    "        #print(x_input)\n",
    "        yhat = model.predict(x_input, verbose=0)\n",
    "        print(\"{} day output {}\".format(i,yhat))\n",
    "        temp_input.extend(yhat[0].tolist())\n",
    "        temp_input=temp_input[1:]\n",
    "        #print(temp_input)\n",
    "        lst_output.extend(yhat.tolist())\n",
    "        i=i+1\n",
    "    else:\n",
    "        x_input = x_input.reshape((1, n_steps,1))\n",
    "        yhat = model.predict(x_input, verbose=0)\n",
    "        print(yhat[0])\n",
    "        temp_input.extend(yhat[0].tolist())\n",
    "        print(len(temp_input))\n",
    "        lst_output.extend(yhat.tolist())\n",
    "        i=i+1\n",
    "    \n",
    "\n",
    "print(lst_output)"
   ]
  },
  {
   "cell_type": "markdown",
   "id": "e57c3407",
   "metadata": {},
   "source": [
    "Convert predicted value to categorical output, round it."
   ]
  },
  {
   "cell_type": "code",
   "execution_count": 665,
   "id": "81ec2528",
   "metadata": {},
   "outputs": [],
   "source": [
    "lst_output = np.round(lst_output)"
   ]
  },
  {
   "cell_type": "code",
   "execution_count": null,
   "id": "ca2af1f1",
   "metadata": {},
   "outputs": [],
   "source": []
  },
  {
   "cell_type": "code",
   "execution_count": 650,
   "id": "0621a52a",
   "metadata": {},
   "outputs": [],
   "source": [
    "# below second argument should be n_steps from above and add 1 to it\n",
    "day_new=np.arange(1,time_step+1)\n",
    "# below first agument should be n_steps from above and add 1 to it.\n",
    "# below second agument should be-> n_steps+ number future time steps that we wnat to predict in the future. \n",
    "# This value of future time steps is given in above code while(i<100)\n",
    "day_pred=np.arange(time_step+1,time_step+i+1)\n",
    "\n",
    "# above i+1 is added, since in the earlier code, i value is true only till it is '<48'. "
   ]
  },
  {
   "cell_type": "code",
   "execution_count": 675,
   "id": "6a4f4a72",
   "metadata": {},
   "outputs": [],
   "source": [
    "#day_pred"
   ]
  },
  {
   "cell_type": "code",
   "execution_count": 652,
   "id": "cc618943",
   "metadata": {},
   "outputs": [],
   "source": [
    "import matplotlib.pyplot as plt"
   ]
  },
  {
   "cell_type": "code",
   "execution_count": 657,
   "id": "d015a00e",
   "metadata": {},
   "outputs": [],
   "source": [
    "var1 = len(df1)-time_step"
   ]
  },
  {
   "cell_type": "code",
   "execution_count": 674,
   "id": "0be18ff7",
   "metadata": {},
   "outputs": [],
   "source": [
    "#var1"
   ]
  },
  {
   "cell_type": "code",
   "execution_count": 676,
   "id": "993247c3",
   "metadata": {},
   "outputs": [],
   "source": [
    "#len(df1[var1:])"
   ]
  },
  {
   "cell_type": "code",
   "execution_count": 668,
   "id": "35756831",
   "metadata": {},
   "outputs": [
    {
     "data": {
      "text/plain": [
       "[<matplotlib.lines.Line2D at 0x21c876c1040>]"
      ]
     },
     "execution_count": 668,
     "metadata": {},
     "output_type": "execute_result"
    },
    {
     "data": {
      "image/png": "[encoded data removed]",
      "text/plain": [
       "<Figure size 432x288 with 1 Axes>"
      ]
     },
     "metadata": {
      "needs_background": "light"
     },
     "output_type": "display_data"
    }
   ],
   "source": [
    "# Value belos should be len(df1) minus value of future time step as considered above\n",
    "plt.plot(day_new,scaler.inverse_transform(df1[var1:]))\n",
    "plt.plot(day_pred,scaler.inverse_transform(lst_output))"
   ]
  },
  {
   "cell_type": "code",
   "execution_count": null,
   "id": "d826425f",
   "metadata": {},
   "outputs": [],
   "source": []
  },
  {
   "cell_type": "code",
   "execution_count": 673,
   "id": "9b28ad61",
   "metadata": {},
   "outputs": [
    {
     "data": {
      "text/plain": [
       "[<matplotlib.lines.Line2D at 0x21c870d1f40>]"
      ]
     },
     "execution_count": 673,
     "metadata": {},
     "output_type": "execute_result"
    },
    {
     "data": {
      "image/png": "[encoded data removed]",
      "text/plain": [
       "<Figure size 432x288 with 1 Axes>"
      ]
     },
     "metadata": {
      "needs_background": "light"
     },
     "output_type": "display_data"
    }
   ],
   "source": [
    "# This shows complete plot of train, test and future date prediction plot- all in one plot.\n",
    "df3=df1.tolist()\n",
    "df3.extend(lst_output)\n",
    "plt.plot(df3[800:]) # dont know the meaning of the value in this code but surely has no relation with above code at all."
   ]
  },
  {
   "cell_type": "code",
   "execution_count": 677,
   "id": "ef71f2b0",
   "metadata": {},
   "outputs": [],
   "source": []
  },
  {
   "cell_type": "code",
   "execution_count": null,
   "id": "b6852168",
   "metadata": {},
   "outputs": [],
   "source": []
  },
  {
   "cell_type": "code",
   "execution_count": null,
   "id": "84f52051",
   "metadata": {},
   "outputs": [],
   "source": []
  },
  {
   "cell_type": "code",
   "execution_count": null,
   "id": "95d9bc76",
   "metadata": {},
   "outputs": [],
   "source": []
  },
  {
   "cell_type": "code",
   "execution_count": null,
   "id": "a52d5873",
   "metadata": {},
   "outputs": [],
   "source": []
  },
  {
   "cell_type": "code",
   "execution_count": null,
   "id": "44230bed",
   "metadata": {},
   "outputs": [],
   "source": []
  }
 ],
 "metadata": {
  "kernelspec": {
   "display_name": "Python 3",
   "language": "python",
   "name": "python3"
  },
  "language_info": {
   "codemirror_mode": {
    "name": "ipython",
    "version": 3
   },
   "file_extension": ".py",
   "mimetype": "text/x-python",
   "name": "python",
   "nbconvert_exporter": "python",
   "pygments_lexer": "ipython3",
   "version": "3.8.8"
  }
 },
 "nbformat": 4,
 "nbformat_minor": 5
}
