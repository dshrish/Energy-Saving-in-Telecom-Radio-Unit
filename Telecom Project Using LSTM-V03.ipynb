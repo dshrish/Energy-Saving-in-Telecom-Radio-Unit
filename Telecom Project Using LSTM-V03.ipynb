{
 "cells": [
  {
   "cell_type": "code",
   "execution_count": 1,
   "id": "70173aba",
   "metadata": {},
   "outputs": [],
   "source": [
    "import numpy as np\n",
    "\n",
    "import pandas as pd\n",
    "\n",
    "#from datetime import datetime"
   ]
  },
  {
   "cell_type": "code",
   "execution_count": 2,
   "id": "30fc137a",
   "metadata": {},
   "outputs": [
    {
     "data": {
      "text/html": [
       "<div>\n",
       "<style scoped>\n",
       "    .dataframe tbody tr th:only-of-type {\n",
       "        vertical-align: middle;\n",
       "    }\n",
       "\n",
       "    .dataframe tbody tr th {\n",
       "        vertical-align: top;\n",
       "    }\n",
       "\n",
       "    .dataframe thead th {\n",
       "        text-align: right;\n",
       "    }\n",
       "</style>\n",
       "<table border=\"1\" class=\"dataframe\">\n",
       "  <thead>\n",
       "    <tr style=\"text-align: right;\">\n",
       "      <th></th>\n",
       "      <th>Radio Site_Sector_Date_Hour</th>\n",
       "      <th>Hour</th>\n",
       "      <th>Date</th>\n",
       "      <th>Date_Time</th>\n",
       "      <th>Sector_PDSCH_PRB_DL_Util</th>\n",
       "      <th>Sector_PUSCH_PRB_UL_Util</th>\n",
       "      <th>Sector_VoLTE_Traffic_Erl</th>\n",
       "      <th>Sector_Avg_RRC_connected_users</th>\n",
       "      <th>Capacity_On_Off</th>\n",
       "    </tr>\n",
       "  </thead>\n",
       "  <tbody>\n",
       "    <tr>\n",
       "      <th>0</th>\n",
       "      <td>90851_3_44388_ 00:00</td>\n",
       "      <td>00:00</td>\n",
       "      <td>11-Jul</td>\n",
       "      <td>11/7/2021 0:00</td>\n",
       "      <td>18.12</td>\n",
       "      <td>3.45</td>\n",
       "      <td>0.32</td>\n",
       "      <td>22.0</td>\n",
       "      <td>On</td>\n",
       "    </tr>\n",
       "    <tr>\n",
       "      <th>1</th>\n",
       "      <td>90851_3_44388_ 00:00</td>\n",
       "      <td>00:00</td>\n",
       "      <td>11-Jul</td>\n",
       "      <td>11/7/2021 0:00</td>\n",
       "      <td>18.12</td>\n",
       "      <td>3.45</td>\n",
       "      <td>0.32</td>\n",
       "      <td>22.0</td>\n",
       "      <td>On</td>\n",
       "    </tr>\n",
       "    <tr>\n",
       "      <th>2</th>\n",
       "      <td>90851_3_44388_ 00:00</td>\n",
       "      <td>00:00</td>\n",
       "      <td>11-Jul</td>\n",
       "      <td>11/7/2021 0:00</td>\n",
       "      <td>18.12</td>\n",
       "      <td>3.45</td>\n",
       "      <td>0.32</td>\n",
       "      <td>22.0</td>\n",
       "      <td>Off</td>\n",
       "    </tr>\n",
       "    <tr>\n",
       "      <th>3</th>\n",
       "      <td>90851_3_44388_ 00:00</td>\n",
       "      <td>00:00</td>\n",
       "      <td>11-Jul</td>\n",
       "      <td>11/7/2021 0:00</td>\n",
       "      <td>18.12</td>\n",
       "      <td>3.45</td>\n",
       "      <td>0.32</td>\n",
       "      <td>22.0</td>\n",
       "      <td>Off</td>\n",
       "    </tr>\n",
       "    <tr>\n",
       "      <th>4</th>\n",
       "      <td>90851_3_44388_ 00:00</td>\n",
       "      <td>00:00</td>\n",
       "      <td>11-Jul</td>\n",
       "      <td>11/7/2021 0:00</td>\n",
       "      <td>18.12</td>\n",
       "      <td>3.45</td>\n",
       "      <td>0.32</td>\n",
       "      <td>22.0</td>\n",
       "      <td>Off</td>\n",
       "    </tr>\n",
       "  </tbody>\n",
       "</table>\n",
       "</div>"
      ],
      "text/plain": [
       "  Radio Site_Sector_Date_Hour    Hour    Date       Date_Time  \\\n",
       "0        90851_3_44388_ 00:00   00:00  11-Jul  11/7/2021 0:00   \n",
       "1        90851_3_44388_ 00:00   00:00  11-Jul  11/7/2021 0:00   \n",
       "2        90851_3_44388_ 00:00   00:00  11-Jul  11/7/2021 0:00   \n",
       "3        90851_3_44388_ 00:00   00:00  11-Jul  11/7/2021 0:00   \n",
       "4        90851_3_44388_ 00:00   00:00  11-Jul  11/7/2021 0:00   \n",
       "\n",
       "   Sector_PDSCH_PRB_DL_Util  Sector_PUSCH_PRB_UL_Util  \\\n",
       "0                     18.12                      3.45   \n",
       "1                     18.12                      3.45   \n",
       "2                     18.12                      3.45   \n",
       "3                     18.12                      3.45   \n",
       "4                     18.12                      3.45   \n",
       "\n",
       "   Sector_VoLTE_Traffic_Erl  Sector_Avg_RRC_connected_users Capacity_On_Off  \n",
       "0                      0.32                            22.0              On  \n",
       "1                      0.32                            22.0              On  \n",
       "2                      0.32                            22.0             Off  \n",
       "3                      0.32                            22.0             Off  \n",
       "4                      0.32                            22.0             Off  "
      ]
     },
     "execution_count": 2,
     "metadata": {},
     "output_type": "execute_result"
    }
   ],
   "source": [
    "#Read the csv file\n",
    "df = pd.read_csv('Cell_Level_KPI_5 layer site_ML-One sector.csv')\n",
    "df.head()"
   ]
  },
  {
   "cell_type": "code",
   "execution_count": null,
   "id": "f382d39d",
   "metadata": {},
   "outputs": [],
   "source": [
    "\n"
   ]
  },
  {
   "cell_type": "code",
   "execution_count": null,
   "id": "00c0f072",
   "metadata": {},
   "outputs": [],
   "source": []
  },
  {
   "cell_type": "code",
   "execution_count": 3,
   "id": "3e4a81fd",
   "metadata": {},
   "outputs": [],
   "source": [
    "#df.info()"
   ]
  },
  {
   "cell_type": "code",
   "execution_count": 4,
   "id": "72ca58c5",
   "metadata": {},
   "outputs": [],
   "source": [
    "df['Date_Time']= pd.to_datetime(df['Date_Time'])"
   ]
  },
  {
   "cell_type": "code",
   "execution_count": 5,
   "id": "3245fac7",
   "metadata": {},
   "outputs": [],
   "source": [
    "#df.info()"
   ]
  },
  {
   "cell_type": "code",
   "execution_count": 6,
   "id": "9a13f519",
   "metadata": {},
   "outputs": [
    {
     "name": "stderr",
     "output_type": "stream",
     "text": [
      "<ipython-input-6-b8846d583b5f>:1: SettingWithCopyWarning: \n",
      "A value is trying to be set on a copy of a slice from a DataFrame\n",
      "\n",
      "See the caveats in the documentation: https://pandas.pydata.org/pandas-docs/stable/user_guide/indexing.html#returning-a-view-versus-a-copy\n",
      "  df.Capacity_On_Off[df.Capacity_On_Off == 'On'] = 1\n",
      "<ipython-input-6-b8846d583b5f>:2: SettingWithCopyWarning: \n",
      "A value is trying to be set on a copy of a slice from a DataFrame\n",
      "\n",
      "See the caveats in the documentation: https://pandas.pydata.org/pandas-docs/stable/user_guide/indexing.html#returning-a-view-versus-a-copy\n",
      "  df.Capacity_On_Off[df.Capacity_On_Off == 'Off'] = 0\n"
     ]
    }
   ],
   "source": [
    "df.Capacity_On_Off[df.Capacity_On_Off == 'On'] = 1\n",
    "df.Capacity_On_Off[df.Capacity_On_Off == 'Off'] = 0"
   ]
  },
  {
   "cell_type": "code",
   "execution_count": 7,
   "id": "e8493d63",
   "metadata": {},
   "outputs": [],
   "source": [
    "df = df.rename({\n",
    "          'Capacity_On_Off':'On'\n",
    "        }, axis='columns')"
   ]
  },
  {
   "cell_type": "code",
   "execution_count": 8,
   "id": "0130bd7d",
   "metadata": {},
   "outputs": [],
   "source": [
    "df ['On'] =df['On'].astype('int')"
   ]
  },
  {
   "cell_type": "code",
   "execution_count": 9,
   "id": "671fbb5d",
   "metadata": {},
   "outputs": [
    {
     "data": {
      "text/html": [
       "<div>\n",
       "<style scoped>\n",
       "    .dataframe tbody tr th:only-of-type {\n",
       "        vertical-align: middle;\n",
       "    }\n",
       "\n",
       "    .dataframe tbody tr th {\n",
       "        vertical-align: top;\n",
       "    }\n",
       "\n",
       "    .dataframe thead th {\n",
       "        text-align: right;\n",
       "    }\n",
       "</style>\n",
       "<table border=\"1\" class=\"dataframe\">\n",
       "  <thead>\n",
       "    <tr style=\"text-align: right;\">\n",
       "      <th></th>\n",
       "      <th>Radio Site_Sector_Date_Hour</th>\n",
       "      <th>Hour</th>\n",
       "      <th>Date</th>\n",
       "      <th>Date_Time</th>\n",
       "      <th>Sector_PDSCH_PRB_DL_Util</th>\n",
       "      <th>Sector_PUSCH_PRB_UL_Util</th>\n",
       "      <th>Sector_VoLTE_Traffic_Erl</th>\n",
       "      <th>Sector_Avg_RRC_connected_users</th>\n",
       "      <th>On</th>\n",
       "    </tr>\n",
       "  </thead>\n",
       "  <tbody>\n",
       "    <tr>\n",
       "      <th>0</th>\n",
       "      <td>90851_3_44388_ 00:00</td>\n",
       "      <td>00:00</td>\n",
       "      <td>11-Jul</td>\n",
       "      <td>2021-11-07</td>\n",
       "      <td>18.12</td>\n",
       "      <td>3.45</td>\n",
       "      <td>0.32</td>\n",
       "      <td>22.0</td>\n",
       "      <td>1</td>\n",
       "    </tr>\n",
       "    <tr>\n",
       "      <th>1</th>\n",
       "      <td>90851_3_44388_ 00:00</td>\n",
       "      <td>00:00</td>\n",
       "      <td>11-Jul</td>\n",
       "      <td>2021-11-07</td>\n",
       "      <td>18.12</td>\n",
       "      <td>3.45</td>\n",
       "      <td>0.32</td>\n",
       "      <td>22.0</td>\n",
       "      <td>1</td>\n",
       "    </tr>\n",
       "    <tr>\n",
       "      <th>2</th>\n",
       "      <td>90851_3_44388_ 00:00</td>\n",
       "      <td>00:00</td>\n",
       "      <td>11-Jul</td>\n",
       "      <td>2021-11-07</td>\n",
       "      <td>18.12</td>\n",
       "      <td>3.45</td>\n",
       "      <td>0.32</td>\n",
       "      <td>22.0</td>\n",
       "      <td>0</td>\n",
       "    </tr>\n",
       "    <tr>\n",
       "      <th>3</th>\n",
       "      <td>90851_3_44388_ 00:00</td>\n",
       "      <td>00:00</td>\n",
       "      <td>11-Jul</td>\n",
       "      <td>2021-11-07</td>\n",
       "      <td>18.12</td>\n",
       "      <td>3.45</td>\n",
       "      <td>0.32</td>\n",
       "      <td>22.0</td>\n",
       "      <td>0</td>\n",
       "    </tr>\n",
       "    <tr>\n",
       "      <th>4</th>\n",
       "      <td>90851_3_44388_ 00:00</td>\n",
       "      <td>00:00</td>\n",
       "      <td>11-Jul</td>\n",
       "      <td>2021-11-07</td>\n",
       "      <td>18.12</td>\n",
       "      <td>3.45</td>\n",
       "      <td>0.32</td>\n",
       "      <td>22.0</td>\n",
       "      <td>0</td>\n",
       "    </tr>\n",
       "  </tbody>\n",
       "</table>\n",
       "</div>"
      ],
      "text/plain": [
       "  Radio Site_Sector_Date_Hour    Hour    Date  Date_Time  \\\n",
       "0        90851_3_44388_ 00:00   00:00  11-Jul 2021-11-07   \n",
       "1        90851_3_44388_ 00:00   00:00  11-Jul 2021-11-07   \n",
       "2        90851_3_44388_ 00:00   00:00  11-Jul 2021-11-07   \n",
       "3        90851_3_44388_ 00:00   00:00  11-Jul 2021-11-07   \n",
       "4        90851_3_44388_ 00:00   00:00  11-Jul 2021-11-07   \n",
       "\n",
       "   Sector_PDSCH_PRB_DL_Util  Sector_PUSCH_PRB_UL_Util  \\\n",
       "0                     18.12                      3.45   \n",
       "1                     18.12                      3.45   \n",
       "2                     18.12                      3.45   \n",
       "3                     18.12                      3.45   \n",
       "4                     18.12                      3.45   \n",
       "\n",
       "   Sector_VoLTE_Traffic_Erl  Sector_Avg_RRC_connected_users  On  \n",
       "0                      0.32                            22.0   1  \n",
       "1                      0.32                            22.0   1  \n",
       "2                      0.32                            22.0   0  \n",
       "3                      0.32                            22.0   0  \n",
       "4                      0.32                            22.0   0  "
      ]
     },
     "execution_count": 9,
     "metadata": {},
     "output_type": "execute_result"
    }
   ],
   "source": [
    "df.head()"
   ]
  },
  {
   "cell_type": "code",
   "execution_count": 10,
   "id": "66fc5af1",
   "metadata": {},
   "outputs": [],
   "source": [
    "#df.tail()"
   ]
  },
  {
   "cell_type": "code",
   "execution_count": 11,
   "id": "ccb81fc8",
   "metadata": {},
   "outputs": [],
   "source": [
    "df1=df.reset_index()['On']"
   ]
  },
  {
   "cell_type": "code",
   "execution_count": 12,
   "id": "08c81780",
   "metadata": {},
   "outputs": [
    {
     "data": {
      "text/plain": [
       "0    1\n",
       "1    1\n",
       "2    0\n",
       "3    0\n",
       "4    0\n",
       "Name: On, dtype: int32"
      ]
     },
     "execution_count": 12,
     "metadata": {},
     "output_type": "execute_result"
    }
   ],
   "source": [
    "df1.head()"
   ]
  },
  {
   "cell_type": "code",
   "execution_count": 13,
   "id": "d7adabc1",
   "metadata": {},
   "outputs": [],
   "source": [
    "#df1 = np.array(df1)"
   ]
  },
  {
   "cell_type": "code",
   "execution_count": 14,
   "id": "61f1e077",
   "metadata": {},
   "outputs": [],
   "source": [
    "### LSTM are sensitive to the scale of the data. so we apply MinMax scaler\n",
    "\n",
    "import numpy as np\n",
    "from sklearn.preprocessing import MinMaxScaler\n",
    "scaler=MinMaxScaler(feature_range=(0,1))\n",
    "df1=scaler.fit_transform(np.array(df1).reshape(-1,1))"
   ]
  },
  {
   "cell_type": "code",
   "execution_count": null,
   "id": "c41c6635",
   "metadata": {},
   "outputs": [],
   "source": []
  },
  {
   "cell_type": "code",
   "execution_count": 15,
   "id": "8ad3d5ff",
   "metadata": {},
   "outputs": [],
   "source": [
    "##splitting dataset into train and test split\n",
    "training_size=int(len(df1)*0.65)\n"
   ]
  },
  {
   "cell_type": "code",
   "execution_count": 16,
   "id": "6841d705",
   "metadata": {},
   "outputs": [
    {
     "data": {
      "text/plain": [
       "595"
      ]
     },
     "execution_count": 16,
     "metadata": {},
     "output_type": "execute_result"
    }
   ],
   "source": [
    "training_size"
   ]
  },
  {
   "cell_type": "code",
   "execution_count": 17,
   "id": "7773d506",
   "metadata": {},
   "outputs": [
    {
     "data": {
      "text/plain": [
       "321"
      ]
     },
     "execution_count": 17,
     "metadata": {},
     "output_type": "execute_result"
    }
   ],
   "source": [
    "test_size=len(df1)-training_size\n",
    "test_size"
   ]
  },
  {
   "cell_type": "code",
   "execution_count": 18,
   "id": "fe2a94a1",
   "metadata": {},
   "outputs": [],
   "source": [
    "train_data, test_data =df1[0:training_size,:],df1[training_size:len(df1),:1]"
   ]
  },
  {
   "cell_type": "code",
   "execution_count": 19,
   "id": "a261c12c",
   "metadata": {},
   "outputs": [
    {
     "data": {
      "text/plain": [
       "(595, 1)"
      ]
     },
     "execution_count": 19,
     "metadata": {},
     "output_type": "execute_result"
    }
   ],
   "source": [
    "train_data.shape"
   ]
  },
  {
   "cell_type": "code",
   "execution_count": 20,
   "id": "d8141880",
   "metadata": {},
   "outputs": [
    {
     "data": {
      "text/plain": [
       "(321, 1)"
      ]
     },
     "execution_count": 20,
     "metadata": {},
     "output_type": "execute_result"
    }
   ],
   "source": [
    "test_data.shape"
   ]
  },
  {
   "cell_type": "code",
   "execution_count": 21,
   "id": "1015b7e6",
   "metadata": {},
   "outputs": [],
   "source": [
    "import numpy\n",
    "# convert an array of values into a dataset matrix\n",
    "def create_dataset(dataset, time_step=1):\n",
    "\tdataX, dataY = [], []\n",
    "\tfor i in range(len(dataset)-time_step-0):\n",
    "\t\ta = dataset[i:(i+time_step), 0]   ###i=0, 0,1,2,3-----99   100 \n",
    "\t\tdataX.append(a)\n",
    "\t\tdataY.append(dataset[i + time_step, 0])\n",
    "\treturn numpy.array(dataX), numpy.array(dataY)"
   ]
  },
  {
   "cell_type": "code",
   "execution_count": null,
   "id": "e9229bb9",
   "metadata": {},
   "outputs": [],
   "source": []
  },
  {
   "cell_type": "code",
   "execution_count": null,
   "id": "bab7cd3f",
   "metadata": {},
   "outputs": [],
   "source": []
  },
  {
   "cell_type": "code",
   "execution_count": null,
   "id": "7c0ab013",
   "metadata": {},
   "outputs": [],
   "source": []
  },
  {
   "cell_type": "code",
   "execution_count": null,
   "id": "95552515",
   "metadata": {},
   "outputs": [],
   "source": []
  },
  {
   "cell_type": "code",
   "execution_count": null,
   "id": "12a6fd6f",
   "metadata": {},
   "outputs": [],
   "source": []
  },
  {
   "cell_type": "code",
   "execution_count": 22,
   "id": "fe0c7785",
   "metadata": {},
   "outputs": [],
   "source": [
    "# reshape into X=t,t+1,t+2,t+3 and Y=t+4\n",
    "time_step = 24\n",
    "# Here time_step is the no of hours to look back based on which prediction for (time_step+1) is to be predicted\n",
    "X_train, y_train = create_dataset(train_data, time_step)"
   ]
  },
  {
   "cell_type": "code",
   "execution_count": null,
   "id": "31899484",
   "metadata": {},
   "outputs": [],
   "source": []
  },
  {
   "cell_type": "code",
   "execution_count": null,
   "id": "0f7275c7",
   "metadata": {},
   "outputs": [],
   "source": []
  },
  {
   "cell_type": "code",
   "execution_count": null,
   "id": "226fef89",
   "metadata": {},
   "outputs": [],
   "source": []
  },
  {
   "cell_type": "code",
   "execution_count": 23,
   "id": "5b4cf8f2",
   "metadata": {},
   "outputs": [],
   "source": [
    "X_test, ytest = create_dataset(test_data, time_step)"
   ]
  },
  {
   "cell_type": "code",
   "execution_count": 24,
   "id": "23fe4e62",
   "metadata": {},
   "outputs": [
    {
     "name": "stdout",
     "output_type": "stream",
     "text": [
      "(571, 24)\n",
      "(571,)\n"
     ]
    },
    {
     "data": {
      "text/plain": [
       "(None, None)"
      ]
     },
     "execution_count": 24,
     "metadata": {},
     "output_type": "execute_result"
    }
   ],
   "source": [
    "print(X_train.shape), print(y_train.shape)"
   ]
  },
  {
   "cell_type": "code",
   "execution_count": 25,
   "id": "3c45004f",
   "metadata": {},
   "outputs": [
    {
     "name": "stdout",
     "output_type": "stream",
     "text": [
      "(297, 24)\n",
      "(297,)\n"
     ]
    },
    {
     "data": {
      "text/plain": [
       "(None, None)"
      ]
     },
     "execution_count": 25,
     "metadata": {},
     "output_type": "execute_result"
    }
   ],
   "source": [
    "print(X_test.shape), print(ytest.shape)"
   ]
  },
  {
   "cell_type": "code",
   "execution_count": 26,
   "id": "df88fcec",
   "metadata": {},
   "outputs": [],
   "source": [
    "# reshape input to be [samples, time steps, features] which is required for LSTM\n",
    "X_train =X_train.reshape(X_train.shape[0],X_train.shape[1] , 1)\n",
    "X_test = X_test.reshape(X_test.shape[0],X_test.shape[1] , 1)"
   ]
  },
  {
   "cell_type": "code",
   "execution_count": 27,
   "id": "dcca8676",
   "metadata": {},
   "outputs": [],
   "source": [
    "### Create the Stacked LSTM model\n",
    "from tensorflow.keras.models import Sequential\n",
    "from tensorflow.keras.layers import Dense\n",
    "from tensorflow.keras.layers import LSTM"
   ]
  },
  {
   "cell_type": "code",
   "execution_count": null,
   "id": "0f58d6a0",
   "metadata": {},
   "outputs": [],
   "source": []
  },
  {
   "cell_type": "code",
   "execution_count": 28,
   "id": "2bbe7131",
   "metadata": {},
   "outputs": [],
   "source": [
    "model=Sequential()\n",
    "model.add(LSTM(50,return_sequences=True,input_shape=(time_step,1)))\n",
    "model.add(LSTM(50,return_sequences=True))\n",
    "model.add(LSTM(50))\n",
    "model.add(Dense(1))\n",
    "model.compile(loss='mean_squared_error',optimizer='adam')"
   ]
  },
  {
   "cell_type": "code",
   "execution_count": 30,
   "id": "c30b88e7",
   "metadata": {},
   "outputs": [],
   "source": [
    "# model.add(LSTM()) # not needed check if this is line is to be removed?"
   ]
  },
  {
   "cell_type": "code",
   "execution_count": 31,
   "id": "de2f2d3f",
   "metadata": {},
   "outputs": [
    {
     "name": "stdout",
     "output_type": "stream",
     "text": [
      "Model: \"sequential\"\n",
      "_________________________________________________________________\n",
      "Layer (type)                 Output Shape              Param #   \n",
      "=================================================================\n",
      "lstm (LSTM)                  (None, 24, 50)            10400     \n",
      "_________________________________________________________________\n",
      "lstm_1 (LSTM)                (None, 24, 50)            20200     \n",
      "_________________________________________________________________\n",
      "lstm_2 (LSTM)                (None, 50)                20200     \n",
      "_________________________________________________________________\n",
      "dense (Dense)                (None, 1)                 51        \n",
      "=================================================================\n",
      "Total params: 50,851\n",
      "Trainable params: 50,851\n",
      "Non-trainable params: 0\n",
      "_________________________________________________________________\n"
     ]
    }
   ],
   "source": [
    "model.summary()"
   ]
  },
  {
   "cell_type": "code",
   "execution_count": null,
   "id": "f4404c6a",
   "metadata": {},
   "outputs": [],
   "source": []
  },
  {
   "cell_type": "code",
   "execution_count": 32,
   "id": "399e1a2c",
   "metadata": {
    "scrolled": true
   },
   "outputs": [
    {
     "name": "stdout",
     "output_type": "stream",
     "text": [
      "Epoch 1/100\n",
      "9/9 [==============================] - 15s 400ms/step - loss: 0.3519 - val_loss: 0.2660\n",
      "Epoch 2/100\n",
      "9/9 [==============================] - 1s 88ms/step - loss: 0.2566 - val_loss: 0.2554\n",
      "Epoch 3/100\n",
      "9/9 [==============================] - 1s 82ms/step - loss: 0.2531 - val_loss: 0.2483\n",
      "Epoch 4/100\n",
      "9/9 [==============================] - 1s 85ms/step - loss: 0.2567 - val_loss: 0.2485\n",
      "Epoch 5/100\n",
      "9/9 [==============================] - 1s 87ms/step - loss: 0.2541 - val_loss: 0.2470\n",
      "Epoch 6/100\n",
      "9/9 [==============================] - 1s 84ms/step - loss: 0.2525 - val_loss: 0.2489\n",
      "Epoch 7/100\n",
      "9/9 [==============================] - 1s 87ms/step - loss: 0.2500 - val_loss: 0.2470\n",
      "Epoch 8/100\n",
      "9/9 [==============================] - 1s 76ms/step - loss: 0.2548 - val_loss: 0.2470\n",
      "Epoch 9/100\n",
      "9/9 [==============================] - 1s 88ms/step - loss: 0.2504 - val_loss: 0.2471\n",
      "Epoch 10/100\n",
      "9/9 [==============================] - 1s 83ms/step - loss: 0.2510 - val_loss: 0.2464\n",
      "Epoch 11/100\n",
      "9/9 [==============================] - 1s 76ms/step - loss: 0.2503 - val_loss: 0.2459\n",
      "Epoch 12/100\n",
      "9/9 [==============================] - 1s 85ms/step - loss: 0.2505 - val_loss: 0.2459\n",
      "Epoch 13/100\n",
      "9/9 [==============================] - 1s 85ms/step - loss: 0.2512 - val_loss: 0.2458\n",
      "Epoch 14/100\n",
      "9/9 [==============================] - 1s 80ms/step - loss: 0.2506 - val_loss: 0.2457\n",
      "Epoch 15/100\n",
      "9/9 [==============================] - 1s 83ms/step - loss: 0.2513 - val_loss: 0.2466\n",
      "Epoch 16/100\n",
      "9/9 [==============================] - 1s 81ms/step - loss: 0.2504 - val_loss: 0.2455\n",
      "Epoch 17/100\n",
      "9/9 [==============================] - 1s 80ms/step - loss: 0.2493 - val_loss: 0.2454\n",
      "Epoch 18/100\n",
      "9/9 [==============================] - 1s 83ms/step - loss: 0.2494 - val_loss: 0.2455\n",
      "Epoch 19/100\n",
      "9/9 [==============================] - 1s 87ms/step - loss: 0.2498 - val_loss: 0.2457\n",
      "Epoch 20/100\n",
      "9/9 [==============================] - 1s 80ms/step - loss: 0.2505 - val_loss: 0.2451\n",
      "Epoch 21/100\n",
      "9/9 [==============================] - 1s 83ms/step - loss: 0.2493 - val_loss: 0.2445\n",
      "Epoch 22/100\n",
      "9/9 [==============================] - 1s 82ms/step - loss: 0.2475 - val_loss: 0.2434\n",
      "Epoch 23/100\n",
      "9/9 [==============================] - 1s 83ms/step - loss: 0.2464 - val_loss: 0.2421\n",
      "Epoch 24/100\n",
      "9/9 [==============================] - 1s 85ms/step - loss: 0.2450 - val_loss: 0.2391\n",
      "Epoch 25/100\n",
      "9/9 [==============================] - 1s 83ms/step - loss: 0.2499 - val_loss: 0.2390\n",
      "Epoch 26/100\n",
      "9/9 [==============================] - 1s 82ms/step - loss: 0.2567 - val_loss: 0.2497\n",
      "Epoch 27/100\n",
      "9/9 [==============================] - 1s 83ms/step - loss: 0.2512 - val_loss: 0.2481\n",
      "Epoch 28/100\n",
      "9/9 [==============================] - 1s 85ms/step - loss: 0.2484 - val_loss: 0.2443\n",
      "Epoch 29/100\n",
      "9/9 [==============================] - 1s 84ms/step - loss: 0.2475 - val_loss: 0.2436\n",
      "Epoch 30/100\n",
      "9/9 [==============================] - 1s 82ms/step - loss: 0.2470 - val_loss: 0.2424\n",
      "Epoch 31/100\n",
      "9/9 [==============================] - 1s 81ms/step - loss: 0.2452 - val_loss: 0.2428\n",
      "Epoch 32/100\n",
      "9/9 [==============================] - 1s 84ms/step - loss: 0.2419 - val_loss: 0.2404\n",
      "Epoch 33/100\n",
      "9/9 [==============================] - 1s 81ms/step - loss: 0.2408 - val_loss: 0.2366\n",
      "Epoch 34/100\n",
      "9/9 [==============================] - 1s 91ms/step - loss: 0.2372 - val_loss: 0.2327\n",
      "Epoch 35/100\n",
      "9/9 [==============================] - 1s 88ms/step - loss: 0.2333 - val_loss: 0.2278\n",
      "Epoch 36/100\n",
      "9/9 [==============================] - 1s 93ms/step - loss: 0.2259 - val_loss: 0.2236\n",
      "Epoch 37/100\n",
      "9/9 [==============================] - 1s 80ms/step - loss: 0.2181 - val_loss: 0.2060\n",
      "Epoch 38/100\n",
      "9/9 [==============================] - 1s 83ms/step - loss: 0.2047 - val_loss: 0.2170\n",
      "Epoch 39/100\n",
      "9/9 [==============================] - 1s 87ms/step - loss: 0.2019 - val_loss: 0.1874\n",
      "Epoch 40/100\n",
      "9/9 [==============================] - 1s 83ms/step - loss: 0.1854 - val_loss: 0.1800\n",
      "Epoch 41/100\n",
      "9/9 [==============================] - 1s 85ms/step - loss: 0.1769 - val_loss: 0.1901\n",
      "Epoch 42/100\n",
      "9/9 [==============================] - 1s 90ms/step - loss: 0.1754 - val_loss: 0.1838\n",
      "Epoch 43/100\n",
      "9/9 [==============================] - 1s 84ms/step - loss: 0.1780 - val_loss: 0.1742\n",
      "Epoch 44/100\n",
      "9/9 [==============================] - 1s 85ms/step - loss: 0.1777 - val_loss: 0.1785\n",
      "Epoch 45/100\n",
      "9/9 [==============================] - 1s 83ms/step - loss: 0.1642 - val_loss: 0.1741\n",
      "Epoch 46/100\n",
      "9/9 [==============================] - 1s 90ms/step - loss: 0.1598 - val_loss: 0.1753\n",
      "Epoch 47/100\n",
      "9/9 [==============================] - 1s 90ms/step - loss: 0.1620 - val_loss: 0.1784\n",
      "Epoch 48/100\n",
      "9/9 [==============================] - 1s 88ms/step - loss: 0.1584 - val_loss: 0.1840\n",
      "Epoch 49/100\n",
      "9/9 [==============================] - 1s 86ms/step - loss: 0.1558 - val_loss: 0.1762\n",
      "Epoch 50/100\n",
      "9/9 [==============================] - 1s 91ms/step - loss: 0.1548 - val_loss: 0.1754\n",
      "Epoch 51/100\n",
      "9/9 [==============================] - 1s 85ms/step - loss: 0.1511 - val_loss: 0.1738\n",
      "Epoch 52/100\n",
      "9/9 [==============================] - 1s 87ms/step - loss: 0.1485 - val_loss: 0.1721\n",
      "Epoch 53/100\n",
      "9/9 [==============================] - 1s 84ms/step - loss: 0.1475 - val_loss: 0.1743\n",
      "Epoch 54/100\n",
      "9/9 [==============================] - 1s 89ms/step - loss: 0.1461 - val_loss: 0.1707\n",
      "Epoch 55/100\n",
      "9/9 [==============================] - 1s 89ms/step - loss: 0.1406 - val_loss: 0.1622\n",
      "Epoch 56/100\n",
      "9/9 [==============================] - 1s 88ms/step - loss: 0.1405 - val_loss: 0.1613\n",
      "Epoch 57/100\n",
      "9/9 [==============================] - 1s 91ms/step - loss: 0.1372 - val_loss: 0.1553\n",
      "Epoch 58/100\n",
      "9/9 [==============================] - 1s 86ms/step - loss: 0.1253 - val_loss: 0.1532\n",
      "Epoch 59/100\n",
      "9/9 [==============================] - 1s 84ms/step - loss: 0.1185 - val_loss: 0.1427\n",
      "Epoch 60/100\n",
      "9/9 [==============================] - 1s 78ms/step - loss: 0.1086 - val_loss: 0.1364\n",
      "Epoch 61/100\n",
      "9/9 [==============================] - 1s 82ms/step - loss: 0.1087 - val_loss: 0.1417\n",
      "Epoch 62/100\n",
      "9/9 [==============================] - 1s 81ms/step - loss: 0.1056 - val_loss: 0.1395\n",
      "Epoch 63/100\n",
      "9/9 [==============================] - 1s 79ms/step - loss: 0.0974 - val_loss: 0.1337\n",
      "Epoch 64/100\n",
      "9/9 [==============================] - 1s 82ms/step - loss: 0.0994 - val_loss: 0.1381\n",
      "Epoch 65/100\n",
      "9/9 [==============================] - 1s 80ms/step - loss: 0.0941 - val_loss: 0.1238\n",
      "Epoch 66/100\n",
      "9/9 [==============================] - 1s 77ms/step - loss: 0.0918 - val_loss: 0.1202\n",
      "Epoch 67/100\n",
      "9/9 [==============================] - 1s 80ms/step - loss: 0.0901 - val_loss: 0.1208\n",
      "Epoch 68/100\n",
      "9/9 [==============================] - 1s 82ms/step - loss: 0.0869 - val_loss: 0.1205\n",
      "Epoch 69/100\n",
      "9/9 [==============================] - 1s 77ms/step - loss: 0.0855 - val_loss: 0.1202\n",
      "Epoch 70/100\n",
      "9/9 [==============================] - 1s 81ms/step - loss: 0.0840 - val_loss: 0.1196\n",
      "Epoch 71/100\n",
      "9/9 [==============================] - 1s 82ms/step - loss: 0.0845 - val_loss: 0.1187\n",
      "Epoch 72/100\n",
      "9/9 [==============================] - 1s 80ms/step - loss: 0.0841 - val_loss: 0.1193\n",
      "Epoch 73/100\n",
      "9/9 [==============================] - 1s 73ms/step - loss: 0.0825 - val_loss: 0.1142\n",
      "Epoch 74/100\n",
      "9/9 [==============================] - 1s 72ms/step - loss: 0.0799 - val_loss: 0.1163\n",
      "Epoch 75/100\n",
      "9/9 [==============================] - 1s 75ms/step - loss: 0.0781 - val_loss: 0.1129\n",
      "Epoch 76/100\n",
      "9/9 [==============================] - 1s 84ms/step - loss: 0.0774 - val_loss: 0.1128\n",
      "Epoch 77/100\n",
      "9/9 [==============================] - 1s 92ms/step - loss: 0.0773 - val_loss: 0.1172\n",
      "Epoch 78/100\n",
      "9/9 [==============================] - 1s 84ms/step - loss: 0.0749 - val_loss: 0.1182\n",
      "Epoch 79/100\n",
      "9/9 [==============================] - 1s 92ms/step - loss: 0.0763 - val_loss: 0.1158\n",
      "Epoch 80/100\n",
      "9/9 [==============================] - 1s 77ms/step - loss: 0.0727 - val_loss: 0.1148\n",
      "Epoch 81/100\n",
      "9/9 [==============================] - 1s 80ms/step - loss: 0.0724 - val_loss: 0.1159\n",
      "Epoch 82/100\n",
      "9/9 [==============================] - 1s 83ms/step - loss: 0.0708 - val_loss: 0.1139\n",
      "Epoch 83/100\n",
      "9/9 [==============================] - 1s 81ms/step - loss: 0.0671 - val_loss: 0.1207\n"
     ]
    },
    {
     "name": "stdout",
     "output_type": "stream",
     "text": [
      "Epoch 84/100\n",
      "9/9 [==============================] - 1s 88ms/step - loss: 0.0669 - val_loss: 0.1114\n",
      "Epoch 85/100\n",
      "9/9 [==============================] - 1s 86ms/step - loss: 0.0620 - val_loss: 0.1157\n",
      "Epoch 86/100\n",
      "9/9 [==============================] - 1s 88ms/step - loss: 0.0639 - val_loss: 0.1130\n",
      "Epoch 87/100\n",
      "9/9 [==============================] - 1s 88ms/step - loss: 0.0643 - val_loss: 0.1130\n",
      "Epoch 88/100\n",
      "9/9 [==============================] - 1s 84ms/step - loss: 0.0629 - val_loss: 0.1138\n",
      "Epoch 89/100\n",
      "9/9 [==============================] - 1s 85ms/step - loss: 0.0602 - val_loss: 0.1161\n",
      "Epoch 90/100\n",
      "9/9 [==============================] - 1s 87ms/step - loss: 0.0613 - val_loss: 0.1169\n",
      "Epoch 91/100\n",
      "9/9 [==============================] - 1s 99ms/step - loss: 0.0619 - val_loss: 0.1151\n",
      "Epoch 92/100\n",
      "9/9 [==============================] - 1s 105ms/step - loss: 0.0613 - val_loss: 0.1134\n",
      "Epoch 93/100\n",
      "9/9 [==============================] - 1s 105ms/step - loss: 0.0598 - val_loss: 0.1158\n",
      "Epoch 94/100\n",
      "9/9 [==============================] - 1s 80ms/step - loss: 0.0581 - val_loss: 0.1116\n",
      "Epoch 95/100\n",
      "9/9 [==============================] - 1s 85ms/step - loss: 0.0530 - val_loss: 0.1142\n",
      "Epoch 96/100\n",
      "9/9 [==============================] - 1s 88ms/step - loss: 0.0535 - val_loss: 0.1151\n",
      "Epoch 97/100\n",
      "9/9 [==============================] - 1s 116ms/step - loss: 0.0557 - val_loss: 0.1202\n",
      "Epoch 98/100\n",
      "9/9 [==============================] - 1s 81ms/step - loss: 0.0564 - val_loss: 0.1172\n",
      "Epoch 99/100\n",
      "9/9 [==============================] - 1s 118ms/step - loss: 0.0543 - val_loss: 0.1071\n",
      "Epoch 100/100\n",
      "9/9 [==============================] - 1s 84ms/step - loss: 0.0537 - val_loss: 0.1158\n"
     ]
    },
    {
     "data": {
      "text/plain": [
       "<keras.callbacks.History at 0x210e315fe20>"
      ]
     },
     "execution_count": 32,
     "metadata": {},
     "output_type": "execute_result"
    }
   ],
   "source": [
    "model.fit(X_train,y_train,validation_data=(X_test,ytest),epochs=100,batch_size=64,verbose=1)"
   ]
  },
  {
   "cell_type": "code",
   "execution_count": 33,
   "id": "11d8c80e",
   "metadata": {},
   "outputs": [
    {
     "data": {
      "text/plain": [
       "[<matplotlib.lines.Line2D at 0x210e7e16250>]"
      ]
     },
     "execution_count": 33,
     "metadata": {},
     "output_type": "execute_result"
    },
    {
     "data": {
      "image/png": "[encoded data removed]",
      "text/plain": [
       "<Figure size 432x288 with 1 Axes>"
      ]
     },
     "metadata": {
      "needs_background": "light"
     },
     "output_type": "display_data"
    }
   ],
   "source": [
    "import matplotlib.pyplot as plt\n",
    "\n",
    "loss_per_epoch= model.history.history['loss']\n",
    "plt.plot(range(len(loss_per_epoch)),loss_per_epoch)"
   ]
  },
  {
   "cell_type": "code",
   "execution_count": 34,
   "id": "944692a0",
   "metadata": {},
   "outputs": [],
   "source": [
    "import tensorflow as tf"
   ]
  },
  {
   "cell_type": "code",
   "execution_count": 35,
   "id": "9383b0e6",
   "metadata": {},
   "outputs": [
    {
     "data": {
      "text/plain": [
       "'2.6.0'"
      ]
     },
     "execution_count": 35,
     "metadata": {},
     "output_type": "execute_result"
    }
   ],
   "source": [
    "tf.__version__"
   ]
  },
  {
   "cell_type": "markdown",
   "id": "25294d24",
   "metadata": {},
   "source": [
    "# Now we will predict for Train and Test data and find the accuracy of both predictions."
   ]
  },
  {
   "cell_type": "code",
   "execution_count": 36,
   "id": "32d0ceb9",
   "metadata": {},
   "outputs": [],
   "source": [
    "### Lets Do the prediction and check performance metrics\n",
    "train_predict=model.predict(X_train)\n",
    "test_predict=model.predict(X_test)"
   ]
  },
  {
   "cell_type": "code",
   "execution_count": 37,
   "id": "28f7e90e",
   "metadata": {},
   "outputs": [
    {
     "data": {
      "text/plain": [
       "571"
      ]
     },
     "execution_count": 37,
     "metadata": {},
     "output_type": "execute_result"
    }
   ],
   "source": [
    "len(X_train)"
   ]
  },
  {
   "cell_type": "code",
   "execution_count": 38,
   "id": "93698b2f",
   "metadata": {},
   "outputs": [],
   "source": [
    "##Transformback to original form\n",
    "train_predict=scaler.inverse_transform(train_predict)\n",
    "test_predict=scaler.inverse_transform(test_predict)"
   ]
  },
  {
   "cell_type": "code",
   "execution_count": 39,
   "id": "bda87192",
   "metadata": {},
   "outputs": [],
   "source": [
    "train_predict = np.round(train_predict)"
   ]
  },
  {
   "cell_type": "code",
   "execution_count": 40,
   "id": "6b14d8a3",
   "metadata": {},
   "outputs": [],
   "source": [
    "#train_predict = pd.DataFrame(train_predict, columns=['train_predict']).to_csv('train_predict.csv')"
   ]
  },
  {
   "cell_type": "code",
   "execution_count": 41,
   "id": "33ccf726",
   "metadata": {},
   "outputs": [],
   "source": [
    "test_predict = np.round(test_predict)"
   ]
  },
  {
   "cell_type": "code",
   "execution_count": 42,
   "id": "b9154873",
   "metadata": {},
   "outputs": [
    {
     "data": {
      "text/plain": [
       "571"
      ]
     },
     "execution_count": 42,
     "metadata": {},
     "output_type": "execute_result"
    }
   ],
   "source": [
    "len(train_predict)"
   ]
  },
  {
   "cell_type": "code",
   "execution_count": 43,
   "id": "69a0fd6a",
   "metadata": {},
   "outputs": [
    {
     "data": {
      "text/plain": [
       "297"
      ]
     },
     "execution_count": 43,
     "metadata": {},
     "output_type": "execute_result"
    }
   ],
   "source": [
    "len(test_predict)"
   ]
  },
  {
   "cell_type": "code",
   "execution_count": 44,
   "id": "b4648a96",
   "metadata": {},
   "outputs": [],
   "source": [
    "#test_predict = pd.DataFrame(test_predict, columns=['test_predict']).to_csv('test_predict.csv')"
   ]
  },
  {
   "cell_type": "code",
   "execution_count": 45,
   "id": "2f9c7b4b",
   "metadata": {},
   "outputs": [],
   "source": [
    "#1.  Create an numpy array with 'time_step' number of values in it\n",
    "#2. Append Train_predict to this array\n",
    "#3. Append 'time_step' numebr of values to this.\n",
    "#4. Finally, append Test_predict to this array"
   ]
  },
  {
   "cell_type": "code",
   "execution_count": 46,
   "id": "ac6c4964",
   "metadata": {
    "scrolled": false
   },
   "outputs": [
    {
     "data": {
      "text/plain": [
       "595"
      ]
     },
     "execution_count": 46,
     "metadata": {},
     "output_type": "execute_result"
    }
   ],
   "source": [
    "temp_arr1 = []\n",
    "for k in range(0,(time_step)):\n",
    "    temp_arr1 += [k+100]  # 100 added here just to keep the numbers differnt form 0 and 1- easier to filerout in excel later.\n",
    "\n",
    "temp_arr2 = np.append(temp_arr1,train_predict)\n",
    "len(temp_arr2)"
   ]
  },
  {
   "cell_type": "code",
   "execution_count": null,
   "id": "a88b56bb",
   "metadata": {},
   "outputs": [],
   "source": []
  },
  {
   "cell_type": "code",
   "execution_count": 47,
   "id": "9a74bdd1",
   "metadata": {},
   "outputs": [
    {
     "data": {
      "text/plain": [
       "916"
      ]
     },
     "execution_count": 47,
     "metadata": {},
     "output_type": "execute_result"
    }
   ],
   "source": [
    "temp_arr3 = []\n",
    "for k in range(0,(time_step)):\n",
    "    temp_arr3 += [k+100] # 100 added here just to keep the numbers differnt form 0 and 1- easier to filerout in excel later.\n",
    "\n",
    "temp_arr4= np.append(temp_arr2,temp_arr3)\n",
    "temp_arr5= np.append(temp_arr4,test_predict)\n",
    "len(temp_arr5)"
   ]
  },
  {
   "cell_type": "code",
   "execution_count": null,
   "id": "7a8fbfb0",
   "metadata": {},
   "outputs": [],
   "source": []
  },
  {
   "cell_type": "code",
   "execution_count": 48,
   "id": "0cd722f0",
   "metadata": {},
   "outputs": [],
   "source": [
    "train_test_predict = pd.DataFrame(temp_arr5, columns=['temp_arr5']).to_csv('PREDICT.csv')"
   ]
  },
  {
   "cell_type": "code",
   "execution_count": 49,
   "id": "f40f75cf",
   "metadata": {},
   "outputs": [],
   "source": [
    "#zbc = np.isnan(train_predict)"
   ]
  },
  {
   "cell_type": "code",
   "execution_count": 50,
   "id": "ba38e8c6",
   "metadata": {},
   "outputs": [],
   "source": [
    "#countNAN = np.where (zbc== 'True')"
   ]
  },
  {
   "cell_type": "code",
   "execution_count": 51,
   "id": "c1199655",
   "metadata": {},
   "outputs": [],
   "source": [
    "#countNAN"
   ]
  },
  {
   "cell_type": "code",
   "execution_count": 52,
   "id": "877b3e97",
   "metadata": {},
   "outputs": [
    {
     "data": {
      "text/plain": [
       "0.25109218519121235"
      ]
     },
     "execution_count": 52,
     "metadata": {},
     "output_type": "execute_result"
    }
   ],
   "source": [
    "### Calculate RMSE performance metrics\n",
    "import math\n",
    "from sklearn.metrics import mean_squared_error\n",
    "math.sqrt(mean_squared_error(y_train,train_predict))"
   ]
  },
  {
   "cell_type": "code",
   "execution_count": 53,
   "id": "47db7e1a",
   "metadata": {},
   "outputs": [
    {
     "data": {
      "text/plain": [
       "0.37154695268180854"
      ]
     },
     "execution_count": 53,
     "metadata": {},
     "output_type": "execute_result"
    }
   ],
   "source": [
    "### Test Data RMSE\n",
    "math.sqrt(mean_squared_error(ytest,test_predict))"
   ]
  },
  {
   "cell_type": "code",
   "execution_count": null,
   "id": "845a81f3",
   "metadata": {},
   "outputs": [],
   "source": []
  },
  {
   "cell_type": "code",
   "execution_count": 54,
   "id": "4f32d84b",
   "metadata": {
    "scrolled": true
   },
   "outputs": [
    {
     "data": {
      "text/plain": [
       "array([[ 0.],\n",
       "       [ 1.],\n",
       "       [ 1.],\n",
       "       [ 0.],\n",
       "       [-0.],\n",
       "       [ 0.],\n",
       "       [ 1.],\n",
       "       [ 1.],\n",
       "       [-0.],\n",
       "       [ 0.],\n",
       "       [ 0.],\n",
       "       [ 1.],\n",
       "       [ 1.],\n",
       "       [ 0.],\n",
       "       [ 1.],\n",
       "       [ 0.],\n",
       "       [ 1.],\n",
       "       [ 1.],\n",
       "       [-0.],\n",
       "       [ 1.],\n",
       "       [ 0.],\n",
       "       [ 1.],\n",
       "       [ 1.],\n",
       "       [ 0.],\n",
       "       [ 1.],\n",
       "       [ 0.],\n",
       "       [ 1.],\n",
       "       [ 1.],\n",
       "       [-0.],\n",
       "       [ 1.],\n",
       "       [ 0.],\n",
       "       [ 1.],\n",
       "       [ 1.],\n",
       "       [-0.],\n",
       "       [ 1.],\n",
       "       [ 0.],\n",
       "       [ 1.],\n",
       "       [ 1.],\n",
       "       [-0.],\n",
       "       [ 1.],\n",
       "       [ 0.],\n",
       "       [ 1.],\n",
       "       [ 1.],\n",
       "       [ 0.],\n",
       "       [ 1.],\n",
       "       [ 0.],\n",
       "       [ 1.],\n",
       "       [ 1.],\n",
       "       [-0.],\n",
       "       [ 1.],\n",
       "       [ 0.],\n",
       "       [ 1.],\n",
       "       [ 1.],\n",
       "       [-0.],\n",
       "       [ 1.],\n",
       "       [ 0.],\n",
       "       [ 1.],\n",
       "       [ 1.],\n",
       "       [-0.],\n",
       "       [ 1.],\n",
       "       [ 0.],\n",
       "       [ 1.],\n",
       "       [ 1.],\n",
       "       [-0.],\n",
       "       [ 1.],\n",
       "       [ 0.],\n",
       "       [ 1.],\n",
       "       [ 1.],\n",
       "       [-0.],\n",
       "       [ 1.],\n",
       "       [ 0.],\n",
       "       [ 1.],\n",
       "       [ 1.],\n",
       "       [-0.],\n",
       "       [ 1.],\n",
       "       [ 0.],\n",
       "       [ 1.],\n",
       "       [ 1.],\n",
       "       [ 0.],\n",
       "       [ 1.],\n",
       "       [ 0.],\n",
       "       [ 1.],\n",
       "       [ 1.],\n",
       "       [-0.],\n",
       "       [ 1.],\n",
       "       [ 0.],\n",
       "       [ 1.],\n",
       "       [ 1.],\n",
       "       [-0.],\n",
       "       [ 1.],\n",
       "       [ 0.],\n",
       "       [ 1.],\n",
       "       [ 1.],\n",
       "       [-0.],\n",
       "       [ 1.],\n",
       "       [ 0.],\n",
       "       [ 1.],\n",
       "       [ 1.],\n",
       "       [-0.],\n",
       "       [ 1.],\n",
       "       [ 0.],\n",
       "       [ 1.],\n",
       "       [-0.],\n",
       "       [ 0.],\n",
       "       [ 1.],\n",
       "       [ 1.],\n",
       "       [ 0.],\n",
       "       [ 0.],\n",
       "       [ 1.],\n",
       "       [ 1.],\n",
       "       [-0.],\n",
       "       [ 0.],\n",
       "       [ 1.],\n",
       "       [ 1.],\n",
       "       [ 0.],\n",
       "       [ 0.],\n",
       "       [ 1.],\n",
       "       [ 1.],\n",
       "       [ 0.],\n",
       "       [ 0.],\n",
       "       [ 0.],\n",
       "       [ 1.],\n",
       "       [ 1.],\n",
       "       [-0.],\n",
       "       [ 0.],\n",
       "       [ 0.],\n",
       "       [ 1.],\n",
       "       [ 1.],\n",
       "       [ 0.],\n",
       "       [ 1.],\n",
       "       [ 0.],\n",
       "       [ 1.],\n",
       "       [ 1.],\n",
       "       [ 0.],\n",
       "       [ 1.],\n",
       "       [ 0.],\n",
       "       [ 1.],\n",
       "       [ 0.],\n",
       "       [ 0.],\n",
       "       [ 1.],\n",
       "       [ 1.],\n",
       "       [ 0.],\n",
       "       [ 0.],\n",
       "       [ 1.],\n",
       "       [ 1.],\n",
       "       [ 0.],\n",
       "       [-0.],\n",
       "       [ 1.],\n",
       "       [ 1.],\n",
       "       [ 0.],\n",
       "       [ 0.],\n",
       "       [ 0.],\n",
       "       [ 1.],\n",
       "       [-0.],\n",
       "       [-0.],\n",
       "       [ 0.],\n",
       "       [ 1.],\n",
       "       [ 1.],\n",
       "       [-0.],\n",
       "       [ 0.],\n",
       "       [ 0.],\n",
       "       [ 1.],\n",
       "       [ 1.],\n",
       "       [ 0.],\n",
       "       [ 1.],\n",
       "       [ 0.],\n",
       "       [ 1.],\n",
       "       [ 1.],\n",
       "       [-0.],\n",
       "       [ 1.],\n",
       "       [ 0.],\n",
       "       [ 1.],\n",
       "       [ 1.],\n",
       "       [ 0.],\n",
       "       [ 1.],\n",
       "       [ 0.],\n",
       "       [ 1.],\n",
       "       [ 1.],\n",
       "       [-0.],\n",
       "       [ 1.],\n",
       "       [ 0.],\n",
       "       [ 1.],\n",
       "       [ 1.],\n",
       "       [-0.],\n",
       "       [ 1.],\n",
       "       [ 0.],\n",
       "       [ 1.],\n",
       "       [ 1.],\n",
       "       [-0.],\n",
       "       [ 1.],\n",
       "       [ 0.],\n",
       "       [ 1.],\n",
       "       [ 1.],\n",
       "       [ 0.],\n",
       "       [ 1.],\n",
       "       [ 0.],\n",
       "       [ 1.],\n",
       "       [ 1.],\n",
       "       [-0.],\n",
       "       [ 1.],\n",
       "       [ 0.],\n",
       "       [ 1.],\n",
       "       [ 1.],\n",
       "       [-0.],\n",
       "       [ 1.],\n",
       "       [ 0.],\n",
       "       [ 1.],\n",
       "       [ 1.],\n",
       "       [-0.],\n",
       "       [ 1.],\n",
       "       [ 0.],\n",
       "       [ 1.],\n",
       "       [ 1.],\n",
       "       [-0.],\n",
       "       [ 1.],\n",
       "       [ 0.],\n",
       "       [ 1.],\n",
       "       [ 1.],\n",
       "       [-0.],\n",
       "       [ 1.],\n",
       "       [ 0.],\n",
       "       [ 1.],\n",
       "       [ 1.],\n",
       "       [ 0.],\n",
       "       [ 1.],\n",
       "       [ 0.],\n",
       "       [ 1.],\n",
       "       [ 1.],\n",
       "       [-0.],\n",
       "       [ 1.],\n",
       "       [ 0.],\n",
       "       [ 1.],\n",
       "       [ 1.],\n",
       "       [-0.],\n",
       "       [ 1.],\n",
       "       [ 0.],\n",
       "       [ 1.],\n",
       "       [ 1.],\n",
       "       [-0.],\n",
       "       [ 1.],\n",
       "       [ 0.],\n",
       "       [ 1.],\n",
       "       [ 1.],\n",
       "       [-0.],\n",
       "       [ 1.],\n",
       "       [ 0.],\n",
       "       [ 1.],\n",
       "       [ 1.],\n",
       "       [-0.],\n",
       "       [ 1.],\n",
       "       [ 0.],\n",
       "       [ 1.],\n",
       "       [ 0.],\n",
       "       [ 0.],\n",
       "       [ 1.],\n",
       "       [ 1.],\n",
       "       [ 0.],\n",
       "       [ 0.],\n",
       "       [ 1.],\n",
       "       [ 1.],\n",
       "       [ 0.],\n",
       "       [-0.],\n",
       "       [ 1.],\n",
       "       [ 1.],\n",
       "       [-0.],\n",
       "       [ 0.],\n",
       "       [ 1.],\n",
       "       [ 1.],\n",
       "       [ 0.],\n",
       "       [-0.],\n",
       "       [ 0.],\n",
       "       [ 1.],\n",
       "       [ 1.],\n",
       "       [-0.],\n",
       "       [ 0.],\n",
       "       [ 0.],\n",
       "       [ 1.],\n",
       "       [ 1.],\n",
       "       [ 0.],\n",
       "       [ 1.],\n",
       "       [ 0.],\n",
       "       [ 1.],\n",
       "       [ 1.],\n",
       "       [-0.],\n",
       "       [ 1.],\n",
       "       [ 0.],\n",
       "       [ 1.],\n",
       "       [ 1.],\n",
       "       [ 0.],\n",
       "       [ 1.],\n",
       "       [ 0.],\n",
       "       [ 1.],\n",
       "       [ 1.],\n",
       "       [-0.],\n",
       "       [ 1.],\n",
       "       [ 0.],\n",
       "       [ 1.],\n",
       "       [ 1.],\n",
       "       [-0.],\n",
       "       [ 1.],\n",
       "       [ 0.],\n",
       "       [ 1.],\n",
       "       [ 1.],\n",
       "       [-0.],\n",
       "       [ 1.],\n",
       "       [ 0.],\n",
       "       [ 1.],\n",
       "       [ 1.],\n",
       "       [ 0.],\n",
       "       [ 1.],\n",
       "       [ 0.],\n",
       "       [ 1.],\n",
       "       [ 1.],\n",
       "       [-0.],\n",
       "       [ 1.],\n",
       "       [ 0.],\n",
       "       [ 1.],\n",
       "       [ 1.],\n",
       "       [-0.],\n",
       "       [ 1.],\n",
       "       [ 0.],\n",
       "       [ 1.],\n",
       "       [ 1.],\n",
       "       [-0.],\n",
       "       [ 1.],\n",
       "       [ 0.],\n",
       "       [ 1.],\n",
       "       [ 1.],\n",
       "       [-0.],\n",
       "       [ 1.],\n",
       "       [ 0.],\n",
       "       [ 1.],\n",
       "       [ 1.],\n",
       "       [-0.],\n",
       "       [ 1.],\n",
       "       [ 0.],\n",
       "       [ 1.],\n",
       "       [ 1.],\n",
       "       [-0.],\n",
       "       [ 1.],\n",
       "       [ 0.],\n",
       "       [ 1.],\n",
       "       [ 1.],\n",
       "       [ 0.],\n",
       "       [ 1.],\n",
       "       [ 0.],\n",
       "       [ 1.],\n",
       "       [ 1.],\n",
       "       [-0.],\n",
       "       [ 1.],\n",
       "       [ 0.],\n",
       "       [ 1.],\n",
       "       [ 1.],\n",
       "       [-0.],\n",
       "       [ 1.],\n",
       "       [ 0.],\n",
       "       [ 1.],\n",
       "       [ 1.],\n",
       "       [-0.],\n",
       "       [ 1.],\n",
       "       [ 0.],\n",
       "       [ 1.],\n",
       "       [ 1.],\n",
       "       [ 0.],\n",
       "       [ 1.],\n",
       "       [ 0.],\n",
       "       [ 1.],\n",
       "       [ 0.],\n",
       "       [ 0.],\n",
       "       [ 1.],\n",
       "       [ 1.],\n",
       "       [ 0.],\n",
       "       [ 0.],\n",
       "       [ 1.],\n",
       "       [ 1.],\n",
       "       [ 0.],\n",
       "       [-0.],\n",
       "       [ 1.],\n",
       "       [ 1.],\n",
       "       [ 0.],\n",
       "       [ 0.],\n",
       "       [ 0.],\n",
       "       [ 1.],\n",
       "       [-0.],\n",
       "       [-0.],\n",
       "       [ 0.],\n",
       "       [ 1.],\n",
       "       [ 1.],\n",
       "       [-0.],\n",
       "       [ 0.],\n",
       "       [ 0.],\n",
       "       [ 1.],\n",
       "       [ 1.],\n",
       "       [ 0.],\n",
       "       [ 1.],\n",
       "       [ 0.],\n",
       "       [ 1.],\n",
       "       [ 1.],\n",
       "       [ 0.],\n",
       "       [ 1.],\n",
       "       [ 0.],\n",
       "       [ 1.],\n",
       "       [ 1.],\n",
       "       [-0.],\n",
       "       [ 1.],\n",
       "       [ 0.],\n",
       "       [ 1.],\n",
       "       [ 1.],\n",
       "       [-0.],\n",
       "       [ 1.],\n",
       "       [ 0.],\n",
       "       [ 1.],\n",
       "       [ 1.],\n",
       "       [-0.],\n",
       "       [ 1.],\n",
       "       [ 0.],\n",
       "       [ 1.],\n",
       "       [ 1.],\n",
       "       [-0.],\n",
       "       [ 1.],\n",
       "       [ 0.],\n",
       "       [ 1.],\n",
       "       [ 1.],\n",
       "       [-0.],\n",
       "       [ 1.],\n",
       "       [ 0.],\n",
       "       [ 1.],\n",
       "       [ 1.],\n",
       "       [-0.],\n",
       "       [ 1.],\n",
       "       [ 0.],\n",
       "       [ 1.],\n",
       "       [ 1.],\n",
       "       [-0.],\n",
       "       [ 1.],\n",
       "       [ 0.],\n",
       "       [ 1.],\n",
       "       [ 1.],\n",
       "       [-0.],\n",
       "       [ 1.],\n",
       "       [ 0.],\n",
       "       [ 1.],\n",
       "       [ 1.],\n",
       "       [-0.],\n",
       "       [ 1.],\n",
       "       [ 0.],\n",
       "       [ 1.],\n",
       "       [ 1.],\n",
       "       [-0.],\n",
       "       [ 1.],\n",
       "       [ 0.],\n",
       "       [ 1.],\n",
       "       [ 1.],\n",
       "       [ 0.],\n",
       "       [ 1.],\n",
       "       [ 0.],\n",
       "       [ 1.],\n",
       "       [ 1.],\n",
       "       [-0.],\n",
       "       [ 1.],\n",
       "       [ 0.],\n",
       "       [ 1.],\n",
       "       [ 1.],\n",
       "       [ 0.],\n",
       "       [ 1.],\n",
       "       [ 0.],\n",
       "       [ 1.],\n",
       "       [ 1.],\n",
       "       [-0.],\n",
       "       [ 1.],\n",
       "       [ 0.],\n",
       "       [ 1.],\n",
       "       [ 1.],\n",
       "       [-0.],\n",
       "       [ 1.],\n",
       "       [ 0.],\n",
       "       [ 1.],\n",
       "       [ 1.],\n",
       "       [-0.],\n",
       "       [ 1.],\n",
       "       [ 0.],\n",
       "       [ 1.],\n",
       "       [ 0.],\n",
       "       [ 0.],\n",
       "       [ 1.],\n",
       "       [ 1.],\n",
       "       [ 0.],\n",
       "       [ 0.],\n",
       "       [ 1.],\n",
       "       [ 1.],\n",
       "       [ 0.],\n",
       "       [-0.],\n",
       "       [ 1.],\n",
       "       [ 1.],\n",
       "       [-0.],\n",
       "       [ 0.],\n",
       "       [ 1.],\n",
       "       [ 1.],\n",
       "       [ 1.],\n",
       "       [ 0.],\n",
       "       [ 1.],\n",
       "       [ 0.],\n",
       "       [ 0.],\n",
       "       [ 0.],\n",
       "       [ 1.],\n",
       "       [ 0.],\n",
       "       [ 1.],\n",
       "       [-0.],\n",
       "       [ 1.],\n",
       "       [ 0.],\n",
       "       [ 1.],\n",
       "       [-0.],\n",
       "       [ 1.],\n",
       "       [-0.],\n",
       "       [ 1.],\n",
       "       [ 0.],\n",
       "       [ 1.],\n",
       "       [-0.],\n",
       "       [ 1.],\n",
       "       [-0.],\n",
       "       [ 1.],\n",
       "       [-0.],\n",
       "       [ 1.],\n",
       "       [-0.],\n",
       "       [ 1.],\n",
       "       [-0.],\n",
       "       [ 1.],\n",
       "       [-0.],\n",
       "       [ 1.],\n",
       "       [-0.],\n",
       "       [ 1.],\n",
       "       [-0.],\n",
       "       [ 1.],\n",
       "       [-0.],\n",
       "       [ 1.],\n",
       "       [ 0.],\n",
       "       [ 1.],\n",
       "       [ 0.],\n",
       "       [ 1.],\n",
       "       [-0.],\n",
       "       [ 1.],\n",
       "       [-0.],\n",
       "       [ 1.],\n",
       "       [ 0.],\n",
       "       [ 1.],\n",
       "       [-0.],\n",
       "       [ 1.],\n",
       "       [ 0.],\n",
       "       [ 1.],\n",
       "       [-0.],\n",
       "       [ 1.],\n",
       "       [ 0.],\n",
       "       [ 1.],\n",
       "       [ 0.],\n",
       "       [ 1.],\n",
       "       [-0.],\n",
       "       [ 1.],\n",
       "       [ 0.],\n",
       "       [ 1.],\n",
       "       [ 0.],\n",
       "       [ 1.],\n",
       "       [-0.],\n",
       "       [ 1.],\n",
       "       [ 0.],\n",
       "       [ 1.],\n",
       "       [-0.],\n",
       "       [ 1.],\n",
       "       [ 0.],\n",
       "       [ 1.],\n",
       "       [-0.],\n",
       "       [ 1.]], dtype=float32)"
      ]
     },
     "execution_count": 54,
     "metadata": {},
     "output_type": "execute_result"
    }
   ],
   "source": [
    "train_predict"
   ]
  },
  {
   "cell_type": "code",
   "execution_count": 55,
   "id": "61c022d0",
   "metadata": {},
   "outputs": [
    {
     "ename": "ValueError",
     "evalue": "could not broadcast input array from shape (297,1) into shape (295,1)",
     "output_type": "error",
     "traceback": [
      "\u001b[1;31m---------------------------------------------------------------------------\u001b[0m",
      "\u001b[1;31mValueError\u001b[0m                                Traceback (most recent call last)",
      "\u001b[1;32m<ipython-input-55-443036c41478>\u001b[0m in \u001b[0;36m<module>\u001b[1;34m\u001b[0m\n\u001b[0;32m      9\u001b[0m \u001b[0mtestPredictPlot\u001b[0m \u001b[1;33m=\u001b[0m \u001b[0mnumpy\u001b[0m\u001b[1;33m.\u001b[0m\u001b[0mempty_like\u001b[0m\u001b[1;33m(\u001b[0m\u001b[0mdf1\u001b[0m\u001b[1;33m)\u001b[0m\u001b[1;33m\u001b[0m\u001b[1;33m\u001b[0m\u001b[0m\n\u001b[0;32m     10\u001b[0m \u001b[0mtestPredictPlot\u001b[0m\u001b[1;33m[\u001b[0m\u001b[1;33m:\u001b[0m\u001b[1;33m,\u001b[0m \u001b[1;33m:\u001b[0m\u001b[1;33m]\u001b[0m \u001b[1;33m=\u001b[0m \u001b[0mnumpy\u001b[0m\u001b[1;33m.\u001b[0m\u001b[0mnan\u001b[0m\u001b[1;33m\u001b[0m\u001b[1;33m\u001b[0m\u001b[0m\n\u001b[1;32m---> 11\u001b[1;33m \u001b[0mtestPredictPlot\u001b[0m\u001b[1;33m[\u001b[0m\u001b[0mlen\u001b[0m\u001b[1;33m(\u001b[0m\u001b[0mtrain_predict\u001b[0m\u001b[1;33m)\u001b[0m\u001b[1;33m+\u001b[0m\u001b[1;33m(\u001b[0m\u001b[0mlook_back\u001b[0m\u001b[1;33m*\u001b[0m\u001b[1;36m2\u001b[0m\u001b[1;33m)\u001b[0m\u001b[1;33m+\u001b[0m\u001b[1;36m1\u001b[0m\u001b[1;33m:\u001b[0m\u001b[0mlen\u001b[0m\u001b[1;33m(\u001b[0m\u001b[0mdf1\u001b[0m\u001b[1;33m)\u001b[0m\u001b[1;33m-\u001b[0m\u001b[1;36m1\u001b[0m\u001b[1;33m,\u001b[0m \u001b[1;33m:\u001b[0m\u001b[1;33m]\u001b[0m \u001b[1;33m=\u001b[0m \u001b[0mtest_predict\u001b[0m\u001b[1;33m\u001b[0m\u001b[1;33m\u001b[0m\u001b[0m\n\u001b[0m\u001b[0;32m     12\u001b[0m \u001b[1;31m# plot baseline and predictions\u001b[0m\u001b[1;33m\u001b[0m\u001b[1;33m\u001b[0m\u001b[1;33m\u001b[0m\u001b[0m\n\u001b[0;32m     13\u001b[0m \u001b[0mplt\u001b[0m\u001b[1;33m.\u001b[0m\u001b[0mplot\u001b[0m\u001b[1;33m(\u001b[0m\u001b[0mscaler\u001b[0m\u001b[1;33m.\u001b[0m\u001b[0minverse_transform\u001b[0m\u001b[1;33m(\u001b[0m\u001b[0mdf1\u001b[0m\u001b[1;33m)\u001b[0m\u001b[1;33m)\u001b[0m\u001b[1;33m\u001b[0m\u001b[1;33m\u001b[0m\u001b[0m\n",
      "\u001b[1;31mValueError\u001b[0m: could not broadcast input array from shape (297,1) into shape (295,1)"
     ]
    }
   ],
   "source": [
    "### Plotting train_predict and test_predict\n",
    "# shift train predictions for plotting\n",
    "from matplotlib import pyplot as plt\n",
    "look_back=time_step   # this value should be same as time_step considerd in code above.\n",
    "trainPredictPlot = numpy.empty_like(df1)\n",
    "trainPredictPlot[:, :] = np.nan\n",
    "trainPredictPlot[look_back:len(train_predict)+look_back, :] = train_predict\n",
    "# shift test predictions for plotting\n",
    "testPredictPlot = numpy.empty_like(df1)\n",
    "testPredictPlot[:, :] = numpy.nan\n",
    "testPredictPlot[len(train_predict)+(look_back*2)+1:len(df1)-1, :] = test_predict\n",
    "# plot baseline and predictions\n",
    "plt.plot(scaler.inverse_transform(df1))\n",
    "plt.plot(trainPredictPlot)\n",
    "plt.plot(testPredictPlot)\n",
    "plt.show()"
   ]
  },
  {
   "cell_type": "code",
   "execution_count": 56,
   "id": "2e290eff",
   "metadata": {},
   "outputs": [
    {
     "data": {
      "text/plain": [
       "321"
      ]
     },
     "execution_count": 56,
     "metadata": {},
     "output_type": "execute_result"
    }
   ],
   "source": [
    "\n",
    "len(test_data)"
   ]
  },
  {
   "cell_type": "markdown",
   "id": "9bba5fa0",
   "metadata": {},
   "source": [
    "# Below code is for predicting values for a future date (beyond test data set). Of course we wont be able to validate how accurate that prediction is, since we dont have any future data."
   ]
  },
  {
   "cell_type": "code",
   "execution_count": 57,
   "id": "13e7bf53",
   "metadata": {},
   "outputs": [
    {
     "data": {
      "text/plain": [
       "321"
      ]
     },
     "execution_count": 57,
     "metadata": {},
     "output_type": "execute_result"
    }
   ],
   "source": [
    "len(test_data)"
   ]
  },
  {
   "cell_type": "code",
   "execution_count": 58,
   "id": "ea2f4897",
   "metadata": {},
   "outputs": [],
   "source": [
    "# If the 'last hour of last date' in our entire data set is say Hour- H24 of Day- D7. \n",
    "# If we have to predict H1 of D8 looking back H24 - 24 (24 hrs before), then this is calaculated as below.\n",
    "\n",
    "new = (len(test_data)-time_step)"
   ]
  },
  {
   "cell_type": "code",
   "execution_count": 59,
   "id": "b0b04813",
   "metadata": {},
   "outputs": [
    {
     "data": {
      "text/plain": [
       "(1, 24)"
      ]
     },
     "execution_count": 59,
     "metadata": {},
     "output_type": "execute_result"
    }
   ],
   "source": [
    "# \n",
    "x_input=test_data[new:].reshape(1,-1) \n",
    "\n",
    "## first agument in test_data should be the output of earlier executed command print(ytest.shape) and add 1 to it\n",
    "# .==remove above comment??\n",
    "\n",
    "x_input.shape"
   ]
  },
  {
   "cell_type": "code",
   "execution_count": 60,
   "id": "5b46c85e",
   "metadata": {},
   "outputs": [],
   "source": [
    "# Below will give list of values for the period 'time_step'\n",
    "temp_input=list(x_input)\n",
    "temp_input=temp_input[0].tolist()"
   ]
  },
  {
   "cell_type": "code",
   "execution_count": null,
   "id": "ff53f979",
   "metadata": {},
   "outputs": [],
   "source": []
  },
  {
   "cell_type": "code",
   "execution_count": 61,
   "id": "84bb5b33",
   "metadata": {
    "scrolled": true
   },
   "outputs": [
    {
     "name": "stdout",
     "output_type": "stream",
     "text": [
      "[1.0644778]\n",
      "25\n",
      "1 day input [0.        0.        0.        1.        1.        0.        1.\n",
      " 0.        1.        1.        0.        1.        0.        1.\n",
      " 1.        0.        1.        0.        1.        1.        0.\n",
      " 1.        0.        1.0644778]\n",
      "1 day output [[1.0263095]]\n",
      "2 day input [0.         0.         1.         1.         0.         1.\n",
      " 0.         1.         1.         0.         1.         0.\n",
      " 1.         1.         0.         1.         0.         1.\n",
      " 1.         0.         1.         0.         1.0644778  1.02630949]\n",
      "2 day output [[-0.04389888]]\n",
      "3 day input [ 0.          1.          1.          0.          1.          0.\n",
      "  1.          1.          0.          1.          0.          1.\n",
      "  1.          0.          1.          0.          1.          1.\n",
      "  0.          1.          0.          1.0644778   1.02630949 -0.04389888]\n",
      "3 day output [[0.67407244]]\n",
      "4 day input [ 1.          1.          0.          1.          0.          1.\n",
      "  1.          0.          1.          0.          1.          1.\n",
      "  0.          1.          0.          1.          1.          0.\n",
      "  1.          0.          1.0644778   1.02630949 -0.04389888  0.67407244]\n",
      "4 day output [[0.13342023]]\n",
      "5 day input [ 1.          0.          1.          0.          1.          1.\n",
      "  0.          1.          0.          1.          1.          0.\n",
      "  1.          0.          1.          1.          0.          1.\n",
      "  0.          1.0644778   1.02630949 -0.04389888  0.67407244  0.13342023]\n",
      "5 day output [[1.1053909]]\n",
      "6 day input [ 0.          1.          0.          1.          1.          0.\n",
      "  1.          0.          1.          1.          0.          1.\n",
      "  0.          1.          1.          0.          1.          0.\n",
      "  1.0644778   1.02630949 -0.04389888  0.67407244  0.13342023  1.10539091]\n",
      "6 day output [[0.9157012]]\n",
      "7 day input [ 1.          0.          1.          1.          0.          1.\n",
      "  0.          1.          1.          0.          1.          0.\n",
      "  1.          1.          0.          1.          0.          1.0644778\n",
      "  1.02630949 -0.04389888  0.67407244  0.13342023  1.10539091  0.91570121]\n",
      "7 day output [[-0.05471264]]\n",
      "8 day input [ 0.          1.          1.          0.          1.          0.\n",
      "  1.          1.          0.          1.          0.          1.\n",
      "  1.          0.          1.          0.          1.0644778   1.02630949\n",
      " -0.04389888  0.67407244  0.13342023  1.10539091  0.91570121 -0.05471264]\n",
      "8 day output [[0.6574263]]\n",
      "9 day input [ 1.          1.          0.          1.          0.          1.\n",
      "  1.          0.          1.          0.          1.          1.\n",
      "  0.          1.          0.          1.0644778   1.02630949 -0.04389888\n",
      "  0.67407244  0.13342023  1.10539091  0.91570121 -0.05471264  0.6574263 ]\n",
      "9 day output [[0.21076843]]\n",
      "10 day input [ 1.          0.          1.          0.          1.          1.\n",
      "  0.          1.          0.          1.          1.          0.\n",
      "  1.          0.          1.0644778   1.02630949 -0.04389888  0.67407244\n",
      "  0.13342023  1.10539091  0.91570121 -0.05471264  0.6574263   0.21076843]\n",
      "10 day output [[1.1338323]]\n",
      "11 day input [ 0.          1.          0.          1.          1.          0.\n",
      "  1.          0.          1.          1.          0.          1.\n",
      "  0.          1.0644778   1.02630949 -0.04389888  0.67407244  0.13342023\n",
      "  1.10539091  0.91570121 -0.05471264  0.6574263   0.21076843  1.13383234]\n",
      "11 day output [[0.788431]]\n",
      "12 day input [ 1.          0.          1.          1.          0.          1.\n",
      "  0.          1.          1.          0.          1.          0.\n",
      "  1.0644778   1.02630949 -0.04389888  0.67407244  0.13342023  1.10539091\n",
      "  0.91570121 -0.05471264  0.6574263   0.21076843  1.13383234  0.78843099]\n",
      "12 day output [[-0.0285854]]\n",
      "13 day input [ 0.          1.          1.          0.          1.          0.\n",
      "  1.          1.          0.          1.          0.          1.0644778\n",
      "  1.02630949 -0.04389888  0.67407244  0.13342023  1.10539091  0.91570121\n",
      " -0.05471264  0.6574263   0.21076843  1.13383234  0.78843099 -0.0285854 ]\n",
      "13 day output [[0.6611406]]\n",
      "14 day input [ 1.          1.          0.          1.          0.          1.\n",
      "  1.          0.          1.          0.          1.0644778   1.02630949\n",
      " -0.04389888  0.67407244  0.13342023  1.10539091  0.91570121 -0.05471264\n",
      "  0.6574263   0.21076843  1.13383234  0.78843099 -0.0285854   0.66114062]\n",
      "14 day output [[0.2967877]]\n",
      "15 day input [ 1.          0.          1.          0.          1.          1.\n",
      "  0.          1.          0.          1.0644778   1.02630949 -0.04389888\n",
      "  0.67407244  0.13342023  1.10539091  0.91570121 -0.05471264  0.6574263\n",
      "  0.21076843  1.13383234  0.78843099 -0.0285854   0.66114062  0.29678771]\n",
      "15 day output [[1.1553935]]\n",
      "16 day input [ 0.          1.          0.          1.          1.          0.\n",
      "  1.          0.          1.0644778   1.02630949 -0.04389888  0.67407244\n",
      "  0.13342023  1.10539091  0.91570121 -0.05471264  0.6574263   0.21076843\n",
      "  1.13383234  0.78843099 -0.0285854   0.66114062  0.29678771  1.15539348]\n",
      "16 day output [[0.6266211]]\n",
      "17 day input [ 1.          0.          1.          1.          0.          1.\n",
      "  0.          1.0644778   1.02630949 -0.04389888  0.67407244  0.13342023\n",
      "  1.10539091  0.91570121 -0.05471264  0.6574263   0.21076843  1.13383234\n",
      "  0.78843099 -0.0285854   0.66114062  0.29678771  1.15539348  0.62662113]\n",
      "17 day output [[0.01503357]]\n",
      "18 day input [ 0.          1.          1.          0.          1.          0.\n",
      "  1.0644778   1.02630949 -0.04389888  0.67407244  0.13342023  1.10539091\n",
      "  0.91570121 -0.05471264  0.6574263   0.21076843  1.13383234  0.78843099\n",
      " -0.0285854   0.66114062  0.29678771  1.15539348  0.62662113  0.01503357]\n",
      "18 day output [[0.652401]]\n",
      "19 day input [ 1.          1.          0.          1.          0.          1.0644778\n",
      "  1.02630949 -0.04389888  0.67407244  0.13342023  1.10539091  0.91570121\n",
      " -0.05471264  0.6574263   0.21076843  1.13383234  0.78843099 -0.0285854\n",
      "  0.66114062  0.29678771  1.15539348  0.62662113  0.01503357  0.65240097]\n",
      "19 day output [[0.4100024]]\n",
      "20 day input [ 1.          0.          1.          0.          1.0644778   1.02630949\n",
      " -0.04389888  0.67407244  0.13342023  1.10539091  0.91570121 -0.05471264\n",
      "  0.6574263   0.21076843  1.13383234  0.78843099 -0.0285854   0.66114062\n",
      "  0.29678771  1.15539348  0.62662113  0.01503357  0.65240097  0.41000241]\n",
      "20 day output [[1.1629767]]\n",
      "21 day input [ 0.          1.          0.          1.0644778   1.02630949 -0.04389888\n",
      "  0.67407244  0.13342023  1.10539091  0.91570121 -0.05471264  0.6574263\n",
      "  0.21076843  1.13383234  0.78843099 -0.0285854   0.66114062  0.29678771\n",
      "  1.15539348  0.62662113  0.01503357  0.65240097  0.41000241  1.16297674]\n",
      "21 day output [[0.40320367]]\n",
      "22 day input [ 1.          0.          1.0644778   1.02630949 -0.04389888  0.67407244\n",
      "  0.13342023  1.10539091  0.91570121 -0.05471264  0.6574263   0.21076843\n",
      "  1.13383234  0.78843099 -0.0285854   0.66114062  0.29678771  1.15539348\n",
      "  0.62662113  0.01503357  0.65240097  0.41000241  1.16297674  0.40320367]\n",
      "22 day output [[0.08986052]]\n",
      "23 day input [ 0.          1.0644778   1.02630949 -0.04389888  0.67407244  0.13342023\n",
      "  1.10539091  0.91570121 -0.05471264  0.6574263   0.21076843  1.13383234\n",
      "  0.78843099 -0.0285854   0.66114062  0.29678771  1.15539348  0.62662113\n",
      "  0.01503357  0.65240097  0.41000241  1.16297674  0.40320367  0.08986052]\n",
      "23 day output [[0.6182158]]\n",
      "24 day input [ 1.0644778   1.02630949 -0.04389888  0.67407244  0.13342023  1.10539091\n",
      "  0.91570121 -0.05471264  0.6574263   0.21076843  1.13383234  0.78843099\n",
      " -0.0285854   0.66114062  0.29678771  1.15539348  0.62662113  0.01503357\n",
      "  0.65240097  0.41000241  1.16297674  0.40320367  0.08986052  0.6182158 ]\n",
      "24 day output [[0.56592786]]\n",
      "25 day input [ 1.02630949 -0.04389888  0.67407244  0.13342023  1.10539091  0.91570121\n",
      " -0.05471264  0.6574263   0.21076843  1.13383234  0.78843099 -0.0285854\n",
      "  0.66114062  0.29678771  1.15539348  0.62662113  0.01503357  0.65240097\n",
      "  0.41000241  1.16297674  0.40320367  0.08986052  0.6182158   0.56592786]\n",
      "25 day output [[1.1381578]]\n",
      "26 day input [-0.04389888  0.67407244  0.13342023  1.10539091  0.91570121 -0.05471264\n",
      "  0.6574263   0.21076843  1.13383234  0.78843099 -0.0285854   0.66114062\n",
      "  0.29678771  1.15539348  0.62662113  0.01503357  0.65240097  0.41000241\n",
      "  1.16297674  0.40320367  0.08986052  0.6182158   0.56592786  1.13815784]\n"
     ]
    },
    {
     "name": "stdout",
     "output_type": "stream",
     "text": [
      "26 day output [[0.1257044]]\n",
      "27 day input [ 0.67407244  0.13342023  1.10539091  0.91570121 -0.05471264  0.6574263\n",
      "  0.21076843  1.13383234  0.78843099 -0.0285854   0.66114062  0.29678771\n",
      "  1.15539348  0.62662113  0.01503357  0.65240097  0.41000241  1.16297674\n",
      "  0.40320367  0.08986052  0.6182158   0.56592786  1.13815784  0.12570439]\n",
      "27 day output [[0.28241184]]\n",
      "28 day input [ 0.13342023  1.10539091  0.91570121 -0.05471264  0.6574263   0.21076843\n",
      "  1.13383234  0.78843099 -0.0285854   0.66114062  0.29678771  1.15539348\n",
      "  0.62662113  0.01503357  0.65240097  0.41000241  1.16297674  0.40320367\n",
      "  0.08986052  0.6182158   0.56592786  1.13815784  0.12570439  0.28241184]\n",
      "28 day output [[0.40087038]]\n",
      "29 day input [ 1.10539091  0.91570121 -0.05471264  0.6574263   0.21076843  1.13383234\n",
      "  0.78843099 -0.0285854   0.66114062  0.29678771  1.15539348  0.62662113\n",
      "  0.01503357  0.65240097  0.41000241  1.16297674  0.40320367  0.08986052\n",
      "  0.6182158   0.56592786  1.13815784  0.12570439  0.28241184  0.40087038]\n",
      "29 day output [[0.91070557]]\n",
      "30 day input [ 0.91570121 -0.05471264  0.6574263   0.21076843  1.13383234  0.78843099\n",
      " -0.0285854   0.66114062  0.29678771  1.15539348  0.62662113  0.01503357\n",
      "  0.65240097  0.41000241  1.16297674  0.40320367  0.08986052  0.6182158\n",
      "  0.56592786  1.13815784  0.12570439  0.28241184  0.40087038  0.91070557]\n",
      "30 day output [[0.9729357]]\n",
      "31 day input [-0.05471264  0.6574263   0.21076843  1.13383234  0.78843099 -0.0285854\n",
      "  0.66114062  0.29678771  1.15539348  0.62662113  0.01503357  0.65240097\n",
      "  0.41000241  1.16297674  0.40320367  0.08986052  0.6182158   0.56592786\n",
      "  1.13815784  0.12570439  0.28241184  0.40087038  0.91070557  0.97293568]\n",
      "31 day output [[-0.12235437]]\n",
      "32 day input [ 0.6574263   0.21076843  1.13383234  0.78843099 -0.0285854   0.66114062\n",
      "  0.29678771  1.15539348  0.62662113  0.01503357  0.65240097  0.41000241\n",
      "  1.16297674  0.40320367  0.08986052  0.6182158   0.56592786  1.13815784\n",
      "  0.12570439  0.28241184  0.40087038  0.91070557  0.97293568 -0.12235437]\n",
      "32 day output [[0.62235004]]\n",
      "33 day input [ 0.21076843  1.13383234  0.78843099 -0.0285854   0.66114062  0.29678771\n",
      "  1.15539348  0.62662113  0.01503357  0.65240097  0.41000241  1.16297674\n",
      "  0.40320367  0.08986052  0.6182158   0.56592786  1.13815784  0.12570439\n",
      "  0.28241184  0.40087038  0.91070557  0.97293568 -0.12235437  0.62235004]\n",
      "33 day output [[0.2254831]]\n",
      "34 day input [ 1.13383234  0.78843099 -0.0285854   0.66114062  0.29678771  1.15539348\n",
      "  0.62662113  0.01503357  0.65240097  0.41000241  1.16297674  0.40320367\n",
      "  0.08986052  0.6182158   0.56592786  1.13815784  0.12570439  0.28241184\n",
      "  0.40087038  0.91070557  0.97293568 -0.12235437  0.62235004  0.2254831 ]\n",
      "34 day output [[1.1375605]]\n",
      "35 day input [ 0.78843099 -0.0285854   0.66114062  0.29678771  1.15539348  0.62662113\n",
      "  0.01503357  0.65240097  0.41000241  1.16297674  0.40320367  0.08986052\n",
      "  0.6182158   0.56592786  1.13815784  0.12570439  0.28241184  0.40087038\n",
      "  0.91070557  0.97293568 -0.12235437  0.62235004  0.2254831   1.13756049]\n",
      "35 day output [[0.70713377]]\n",
      "36 day input [-0.0285854   0.66114062  0.29678771  1.15539348  0.62662113  0.01503357\n",
      "  0.65240097  0.41000241  1.16297674  0.40320367  0.08986052  0.6182158\n",
      "  0.56592786  1.13815784  0.12570439  0.28241184  0.40087038  0.91070557\n",
      "  0.97293568 -0.12235437  0.62235004  0.2254831   1.13756049  0.70713377]\n",
      "36 day output [[-0.05180097]]\n",
      "37 day input [ 0.66114062  0.29678771  1.15539348  0.62662113  0.01503357  0.65240097\n",
      "  0.41000241  1.16297674  0.40320367  0.08986052  0.6182158   0.56592786\n",
      "  1.13815784  0.12570439  0.28241184  0.40087038  0.91070557  0.97293568\n",
      " -0.12235437  0.62235004  0.2254831   1.13756049  0.70713377 -0.05180097]\n",
      "37 day output [[0.63148206]]\n",
      "38 day input [ 0.29678771  1.15539348  0.62662113  0.01503357  0.65240097  0.41000241\n",
      "  1.16297674  0.40320367  0.08986052  0.6182158   0.56592786  1.13815784\n",
      "  0.12570439  0.28241184  0.40087038  0.91070557  0.97293568 -0.12235437\n",
      "  0.62235004  0.2254831   1.13756049  0.70713377 -0.05180097  0.63148206]\n",
      "38 day output [[0.3212197]]\n",
      "39 day input [ 1.15539348  0.62662113  0.01503357  0.65240097  0.41000241  1.16297674\n",
      "  0.40320367  0.08986052  0.6182158   0.56592786  1.13815784  0.12570439\n",
      "  0.28241184  0.40087038  0.91070557  0.97293568 -0.12235437  0.62235004\n",
      "  0.2254831   1.13756049  0.70713377 -0.05180097  0.63148206  0.32121971]\n",
      "39 day output [[1.1586264]]\n",
      "40 day input [ 0.62662113  0.01503357  0.65240097  0.41000241  1.16297674  0.40320367\n",
      "  0.08986052  0.6182158   0.56592786  1.13815784  0.12570439  0.28241184\n",
      "  0.40087038  0.91070557  0.97293568 -0.12235437  0.62235004  0.2254831\n",
      "  1.13756049  0.70713377 -0.05180097  0.63148206  0.32121971  1.15862644]\n",
      "40 day output [[0.51735336]]\n",
      "41 day input [ 0.01503357  0.65240097  0.41000241  1.16297674  0.40320367  0.08986052\n",
      "  0.6182158   0.56592786  1.13815784  0.12570439  0.28241184  0.40087038\n",
      "  0.91070557  0.97293568 -0.12235437  0.62235004  0.2254831   1.13756049\n",
      "  0.70713377 -0.05180097  0.63148206  0.32121971  1.15862644  0.51735336]\n",
      "41 day output [[0.01781844]]\n",
      "42 day input [ 0.65240097  0.41000241  1.16297674  0.40320367  0.08986052  0.6182158\n",
      "  0.56592786  1.13815784  0.12570439  0.28241184  0.40087038  0.91070557\n",
      "  0.97293568 -0.12235437  0.62235004  0.2254831   1.13756049  0.70713377\n",
      " -0.05180097  0.63148206  0.32121971  1.15862644  0.51735336  0.01781844]\n",
      "42 day output [[0.6170089]]\n",
      "43 day input [ 0.41000241  1.16297674  0.40320367  0.08986052  0.6182158   0.56592786\n",
      "  1.13815784  0.12570439  0.28241184  0.40087038  0.91070557  0.97293568\n",
      " -0.12235437  0.62235004  0.2254831   1.13756049  0.70713377 -0.05180097\n",
      "  0.63148206  0.32121971  1.15862644  0.51735336  0.01781844  0.61700892]\n",
      "43 day output [[0.44767934]]\n",
      "44 day input [ 1.16297674  0.40320367  0.08986052  0.6182158   0.56592786  1.13815784\n",
      "  0.12570439  0.28241184  0.40087038  0.91070557  0.97293568 -0.12235437\n",
      "  0.62235004  0.2254831   1.13756049  0.70713377 -0.05180097  0.63148206\n",
      "  0.32121971  1.15862644  0.51735336  0.01781844  0.61700892  0.44767934]\n",
      "44 day output [[1.1595039]]\n",
      "45 day input [ 0.40320367  0.08986052  0.6182158   0.56592786  1.13815784  0.12570439\n",
      "  0.28241184  0.40087038  0.91070557  0.97293568 -0.12235437  0.62235004\n",
      "  0.2254831   1.13756049  0.70713377 -0.05180097  0.63148206  0.32121971\n",
      "  1.15862644  0.51735336  0.01781844  0.61700892  0.44767934  1.15950394]\n",
      "45 day output [[0.2942732]]\n",
      "46 day input [ 0.08986052  0.6182158   0.56592786  1.13815784  0.12570439  0.28241184\n",
      "  0.40087038  0.91070557  0.97293568 -0.12235437  0.62235004  0.2254831\n",
      "  1.13756049  0.70713377 -0.05180097  0.63148206  0.32121971  1.15862644\n",
      "  0.51735336  0.01781844  0.61700892  0.44767934  1.15950394  0.2942732 ]\n",
      "46 day output [[0.13481107]]\n",
      "47 day input [ 0.6182158   0.56592786  1.13815784  0.12570439  0.28241184  0.40087038\n",
      "  0.91070557  0.97293568 -0.12235437  0.62235004  0.2254831   1.13756049\n",
      "  0.70713377 -0.05180097  0.63148206  0.32121971  1.15862644  0.51735336\n",
      "  0.01781844  0.61700892  0.44767934  1.15950394  0.2942732   0.13481107]\n",
      "47 day output [[0.5563175]]\n",
      "[[1.064477801322937], [1.0263094902038574], [-0.04389888048171997], [0.6740724444389343], [0.13342022895812988], [1.1053909063339233], [0.9157012104988098], [-0.05471263825893402], [0.6574262976646423], [0.2107684314250946], [1.133832335472107], [0.7884309887886047], [-0.0285854022949934], [0.6611406207084656], [0.29678770899772644], [1.1553934812545776], [0.6266211271286011], [0.015033572912216187], [0.6524009704589844], [0.4100024104118347], [1.1629767417907715], [0.40320366621017456], [0.08986052125692368], [0.618215799331665], [0.5659278631210327], [1.138157844543457], [0.12570439279079437], [0.2824118435382843], [0.4008703827857971], [0.91070556640625], [0.972935676574707], [-0.12235437333583832], [0.6223500370979309], [0.22548310458660126], [1.137560486793518], [0.7071337699890137], [-0.05180097371339798], [0.6314820647239685], [0.32121971249580383], [1.1586264371871948], [0.517353355884552], [0.01781843788921833], [0.6170089244842529], [0.447679340839386], [1.1595039367675781], [0.2942731976509094], [0.13481107354164124], [0.5563175082206726]]\n"
     ]
    }
   ],
   "source": [
    "# demonstrate prediction for next x no of time steps in the future\n",
    "from numpy import array\n",
    "\n",
    "lst_output=[]\n",
    "n_steps=time_step # step size should be same as was chosen in the code earlier/above \n",
    "i=0\n",
    "while(i<48):   # value of i to be given here as the no of time steps in the future that we want to predict for\n",
    "                # This is basically how many hours after last hour of our data set do we want to predict considering look\n",
    "                # back period of time_step (time_step is defined earlier)\n",
    "    \n",
    "    if(len(temp_input)>time_step): # value givne here should be same a time_steps used in earlier code above.\n",
    "        #print(temp_input)\n",
    "        x_input=np.array(temp_input[1:])\n",
    "        print(\"{} day input {}\".format(i,x_input))\n",
    "        x_input=x_input.reshape(1,-1)\n",
    "        x_input = x_input.reshape((1, n_steps, 1))\n",
    "        #print(x_input)\n",
    "        yhat = model.predict(x_input, verbose=0)\n",
    "        print(\"{} day output {}\".format(i,yhat))\n",
    "        temp_input.extend(yhat[0].tolist())\n",
    "        temp_input=temp_input[1:]\n",
    "        #print(temp_input)\n",
    "        lst_output.extend(yhat.tolist())\n",
    "        i=i+1\n",
    "    else:\n",
    "        x_input = x_input.reshape((1, n_steps,1))\n",
    "        yhat = model.predict(x_input, verbose=0)\n",
    "        print(yhat[0])\n",
    "        temp_input.extend(yhat[0].tolist())\n",
    "        print(len(temp_input))\n",
    "        lst_output.extend(yhat.tolist())\n",
    "        i=i+1\n",
    "    \n",
    "\n",
    "print(lst_output)"
   ]
  },
  {
   "cell_type": "markdown",
   "id": "e57c3407",
   "metadata": {},
   "source": [
    "Convert predicted value to categorical output, round it."
   ]
  },
  {
   "cell_type": "code",
   "execution_count": 62,
   "id": "81ec2528",
   "metadata": {},
   "outputs": [],
   "source": [
    "lst_output = np.round(lst_output)"
   ]
  },
  {
   "cell_type": "code",
   "execution_count": null,
   "id": "ca2af1f1",
   "metadata": {},
   "outputs": [],
   "source": []
  },
  {
   "cell_type": "code",
   "execution_count": 63,
   "id": "0621a52a",
   "metadata": {},
   "outputs": [],
   "source": [
    "# below second argument should be n_steps from above and add 1 to it\n",
    "day_new=np.arange(1,time_step+1)\n",
    "# below first agument should be n_steps from above and add 1 to it.\n",
    "# below second agument should be-> n_steps+ number future time steps that we wnat to predict in the future. \n",
    "# This value of future time steps is given in above code while(i<100)\n",
    "day_pred=np.arange(time_step+1,time_step+i+1)\n",
    "\n",
    "# above i+1 is added, since in the earlier code, i value is true only till it is '<48', and to get 48 i+1 is done. "
   ]
  },
  {
   "cell_type": "code",
   "execution_count": 64,
   "id": "6a4f4a72",
   "metadata": {},
   "outputs": [],
   "source": [
    "#day_pred"
   ]
  },
  {
   "cell_type": "code",
   "execution_count": 65,
   "id": "e24a1d7d",
   "metadata": {},
   "outputs": [
    {
     "name": "stdout",
     "output_type": "stream",
     "text": [
      "Predicting for future 48 hours, looking 24 hours back\n"
     ]
    }
   ],
   "source": [
    "print(\"Predicting for future\", i, \"hours, looking\", time_step, \"hours back\")"
   ]
  },
  {
   "cell_type": "code",
   "execution_count": 66,
   "id": "cc618943",
   "metadata": {},
   "outputs": [],
   "source": [
    "import matplotlib.pyplot as plt"
   ]
  },
  {
   "cell_type": "code",
   "execution_count": 67,
   "id": "d015a00e",
   "metadata": {},
   "outputs": [],
   "source": [
    "var1 = len(df1)-time_step"
   ]
  },
  {
   "cell_type": "code",
   "execution_count": 68,
   "id": "0be18ff7",
   "metadata": {},
   "outputs": [],
   "source": [
    "#var1"
   ]
  },
  {
   "cell_type": "code",
   "execution_count": 69,
   "id": "993247c3",
   "metadata": {},
   "outputs": [],
   "source": [
    "#len(df1[var1:])"
   ]
  },
  {
   "cell_type": "code",
   "execution_count": 70,
   "id": "35756831",
   "metadata": {},
   "outputs": [
    {
     "data": {
      "text/plain": [
       "[<matplotlib.lines.Line2D at 0x210eee45520>]"
      ]
     },
     "execution_count": 70,
     "metadata": {},
     "output_type": "execute_result"
    },
    {
     "data": {
      "image/png": "[encoded data removed]",
      "text/plain": [
       "<Figure size 432x288 with 1 Axes>"
      ]
     },
     "metadata": {
      "needs_background": "light"
     },
     "output_type": "display_data"
    }
   ],
   "source": [
    "# Value belos should be len(df1) minus value of future time step as considered above\n",
    "plt.plot(day_new,scaler.inverse_transform(df1[var1:]))\n",
    "plt.plot(day_pred,scaler.inverse_transform(lst_output))"
   ]
  },
  {
   "cell_type": "code",
   "execution_count": null,
   "id": "d826425f",
   "metadata": {},
   "outputs": [],
   "source": []
  },
  {
   "cell_type": "code",
   "execution_count": 71,
   "id": "9b28ad61",
   "metadata": {},
   "outputs": [
    {
     "data": {
      "text/plain": [
       "[<matplotlib.lines.Line2D at 0x210eda06760>]"
      ]
     },
     "execution_count": 71,
     "metadata": {},
     "output_type": "execute_result"
    },
    {
     "data": {
      "image/png": "[encoded data removed]",
      "text/plain": [
       "<Figure size 432x288 with 1 Axes>"
      ]
     },
     "metadata": {
      "needs_background": "light"
     },
     "output_type": "display_data"
    }
   ],
   "source": [
    "# This shows complete plot of train, test and future date prediction plot- all in one plot.\n",
    "df3=df1.tolist()\n",
    "df3.extend(lst_output)\n",
    "plt.plot(df3[800:]) # dont know the meaning of the value in this code but surely has no relation with above code at all."
   ]
  },
  {
   "cell_type": "code",
   "execution_count": 677,
   "id": "ef71f2b0",
   "metadata": {},
   "outputs": [],
   "source": []
  },
  {
   "cell_type": "code",
   "execution_count": null,
   "id": "b6852168",
   "metadata": {},
   "outputs": [],
   "source": []
  },
  {
   "cell_type": "code",
   "execution_count": null,
   "id": "84f52051",
   "metadata": {},
   "outputs": [],
   "source": []
  },
  {
   "cell_type": "code",
   "execution_count": null,
   "id": "95d9bc76",
   "metadata": {},
   "outputs": [],
   "source": []
  },
  {
   "cell_type": "code",
   "execution_count": null,
   "id": "a52d5873",
   "metadata": {},
   "outputs": [],
   "source": []
  },
  {
   "cell_type": "code",
   "execution_count": null,
   "id": "44230bed",
   "metadata": {},
   "outputs": [],
   "source": []
  }
 ],
 "metadata": {
  "kernelspec": {
   "display_name": "Python 3",
   "language": "python",
   "name": "python3"
  },
  "language_info": {
   "codemirror_mode": {
    "name": "ipython",
    "version": 3
   },
   "file_extension": ".py",
   "mimetype": "text/x-python",
   "name": "python",
   "nbconvert_exporter": "python",
   "pygments_lexer": "ipython3",
   "version": "3.8.8"
  }
 },
 "nbformat": 4,
 "nbformat_minor": 5
}
